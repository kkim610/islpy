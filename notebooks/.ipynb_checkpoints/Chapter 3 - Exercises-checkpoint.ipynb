{
 "cells": [
  {
   "cell_type": "markdown",
   "metadata": {},
   "source": [
    "**1**:  \n",
    "The null hypothesis are that the advertising budgets of TV, radio, and newspaper have no effect on sales. More precisely $H_0^{(1)}: \\beta_1 = 0$, $H_0^{(2)}: \\beta_2 = 0$, and $H_0^{(3)}: \\beta_3 = 0$. The p-values for TV and radio are significant while the p-value for newspaper is not significant. So, we reject the null hypotheses $H_0^{(1)}$ and $H_0^{(2)}$ and we do not reject $H_0^{(3)}$.  \n",
    "\n",
    "**2**:  \n",
    "The KNN classifier is used for classifying a qualitative response by identifying the $K$ closest observations (represented by $N_0$) to a prediction point $x_0$, then estimating the conditional probability $P(Y = j | X = x_0)$ for class $j$ as the fraction of points in $N_0$ whose response values equal j. \n",
    "\n",
    "Conversely, the KNN regressor is used for predicting a qualitative response by identifying the $K$ closest observations (represented by $N_0$) to a prediction point $x_0$, then estimating $f(x_0)$ using the average of all the training responses in $N_0$.  \n",
    "\n",
    "**3 (a)**:  \n",
    "$$\\hat{salary} = \\widehat{\\beta}_0 + \\widehat{\\beta}_1X_1 + \\widehat{\\beta}_2X_2 + \\widehat{\\beta}_3X_3 + \\widehat{\\beta}_4X_4 + \\widehat{\\beta}_5X_5$$  \n",
    "\n",
    "$$\\hat{salary} = 50 + 20(GPA) + 0.07(IQ) + 35(Gender) + 0.01(GPA:IQ) - 10(GPA:Gender)$$  \n",
    "\n",
    "$$Gender = \\begin{cases}1 & \\text{if Female}\\\\0 & \\text{if Male}\\end{cases}$$  \n",
    "\n",
    "$$\\hat{salary} = \\begin{cases}\n",
    "50 + 20(GPA) + 0.07(IQ) + 35 +0.01(GPA:IQ) - 10(GPA) & \\text{if Female}\\\\\n",
    "50 + 20(GPA) + 0.07(IQ) +0.01(GPA:IQ) & \\text{if Male}\n",
    "\\end{cases}$$  \n",
    "\n",
    "which reduces to   \n",
    "\n",
    "$$\\hat{salary} = \\begin{cases}\n",
    "85 + 10(GPA) + 0.07(IQ) + 0.01(GPA:IQ) & \\text{if Female}\\\\\n",
    "50 + 20(GPA) + 0.07(IQ) + 0.01(GPA:IQ) & \\text{if Male}\n",
    "\\end{cases}$$  \n",
    "\n",
    "So the starting salary for males is higher if $50 + 20(GPA) > 85 + 10(GPA)$ which is equivalent to $GPA > 3.5$. This means that **iii** is the correct answer.  \n",
    "\n",
    "**3 (b)**:  \n",
    "We can simply plug in the GPA and IQ into the equation above for females to get  \n",
    "\n",
    "$$\\hat{salary} = 85 + 10(4) + 0.07(110) + 0.01(4\\times110)$$  \n",
    "\n",
    "$$ = $137,100$$. \n",
    "\n",
    "**3 (c)**:  \n",
    "*False*. In order to verify the impact that $GPA:IQ$ has on salary, we would need to test the null hypothesis $H_0: \\widehat{\\beta}_4 = 0$ and then look at the p-values to determine statistical significance.  \n",
    "\n",
    "**4 (a)**:  \n",
    "I would expect the training RSS to be slightly lower for the cubic regression (see figure 2.10) because the increased flexibility of the model will provide a tighter fit to the training data. However, I do not expect a large difference between the training RSS's for linear and cubic regressions.  \n",
    "\n",
    "**4 (b)**:  \n",
    "I would expect the linear regression to have a lower test RSS "
   ]
  },
  {
   "cell_type": "code",
   "execution_count": null,
   "metadata": {
    "collapsed": true
   },
   "outputs": [],
   "source": []
  }
 ],
 "metadata": {
  "kernelspec": {
   "display_name": "Python [default]",
   "language": "python",
   "name": "python3"
  },
  "language_info": {
   "codemirror_mode": {
    "name": "ipython",
    "version": 3
   },
   "file_extension": ".py",
   "mimetype": "text/x-python",
   "name": "python",
   "nbconvert_exporter": "python",
   "pygments_lexer": "ipython3",
   "version": "3.5.3"
  }
 },
 "nbformat": 4,
 "nbformat_minor": 2
}
