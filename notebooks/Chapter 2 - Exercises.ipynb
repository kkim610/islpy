{
 "cells": [
  {
   "cell_type": "markdown",
   "metadata": {
    "collapsed": true
   },
   "source": [
    "# Exercises"
   ]
  },
  {
   "cell_type": "markdown",
   "metadata": {},
   "source": [
    "## Conceptual"
   ]
  },
  {
   "cell_type": "markdown",
   "metadata": {},
   "source": [
    "**1 (a)**: Better | with the large sample size, a more flexible approach will fit the data closer than an inflexible approach would  \n",
    "**1 (b)**: Worse | an overly flexible model would overfit the small number of observations  \n",
    "**1 (c)**: Better | with more degrees of freedom, a flexible model would obtain a better fit  \n",
    "**1 (d)**: Worse | a flexible model will fit to the noise in the error and increase variance more than an inflexible model would  \n",
    "\n",
    "**2 (a)**: Regression | Inference | $n =$ 500 firms in the US | $p =$ profit, number of employees, industry  \n",
    "**2 (b)**: Classification | Prediction | $n =$ 20 similar products | $p =$ price charged, marketing budget, competition price, ten other variables  \n",
    "**2 (c)**: Regression | Prediction | $n =$ 52 (weekly data for 2012) | $p =$ % change in USD/Euro, % change in US market, % change in British market, % change in German market  \n",
    "\n",
    "**3 (a)**:  \n",
    "<img src='https://github.com/tsansom/islpy/blob/master/figures/Chapter2/exercise3a.jpg?raw=true' alt='Exercise 3(a)' style=\"width: 400px;\"/>\n",
    "\n",
    "**3 (b)**:  \n",
    "*Test error* is concave upward due to the bias-variance tradeoff. Increased flexibility decreases test error before the model begins to overfit.  \n",
    "*Training error* decreases monotonically because increased flexibility yields a closer fit to training data\n",
    "*Squared Bias* "
   ]
  },
  {
   "cell_type": "code",
   "execution_count": null,
   "metadata": {
    "collapsed": true
   },
   "outputs": [],
   "source": []
  }
 ],
 "metadata": {
  "kernelspec": {
   "display_name": "Python 3",
   "language": "python",
   "name": "python3"
  },
  "language_info": {
   "codemirror_mode": {
    "name": "ipython",
    "version": 3
   },
   "file_extension": ".py",
   "mimetype": "text/x-python",
   "name": "python",
   "nbconvert_exporter": "python",
   "pygments_lexer": "ipython3",
   "version": "3.6.0"
  }
 },
 "nbformat": 4,
 "nbformat_minor": 2
}
