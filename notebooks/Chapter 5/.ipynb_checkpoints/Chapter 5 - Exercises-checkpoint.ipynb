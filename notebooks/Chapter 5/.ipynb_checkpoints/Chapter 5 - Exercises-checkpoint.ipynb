{
 "cells": [
  {
   "cell_type": "markdown",
   "metadata": {},
   "source": [
    "## Conceptual"
   ]
  },
  {
   "cell_type": "markdown",
   "metadata": {},
   "source": [
    "**1**:  \n",
    "Use the following rules:  \n",
    "\n",
    "$$Var(X+Y) = Var(X) + Var(Y) + 2Cov(X, Y)$$  \n",
    "$$Var(cX) = c^2Var(X)$$  \n",
    "$$Cov(cX, Y) = Cov(X, cY) = cCov(X, Y)$$\n",
    "\n",
    "to transform $Var(\\alpha X + (1 - \\alpha)Y)$:  \n",
    "\n",
    "$$Var(\\alpha X+(1-\\alpha )Y)=Var(\\alpha X) + Var((1-\\alpha )Y) + 2Cov(\\alpha X, (1-\\alpha )Y)$$  \n",
    "\n",
    "$$=\\alpha^2Var(X) + (1-\\alpha)^2Var(Y) + 2\\alpha (1-\\alpha )Cov(X, Y)$$  \n",
    "\n",
    "$$=\\alpha^2\\sigma_X^2 + (1-\\alpha)^2\\sigma_Y^2 + 2(\\alpha - \\alpha^2)\\sigma_{XY}$$  \n",
    "\n",
    "To minimize $Var(\\alpha X + (1 - \\alpha)Y$, we take the first derivative w.r.t. $\\alpha$ and set it to zero  \n",
    "\n",
    "$$\\frac{d}{d\\alpha}Var(\\alpha X + (1 - \\alpha)Y) = 2 \\alpha \\sigma_X^2 - 2(1-\\alpha)\\sigma_Y^2 + 2(1-2\\alpha)\\sigma_{XY}=0$$  \n",
    "\n",
    "We can divide both sides by 2\n",
    "\n",
    "$$\\alpha\\sigma_X^2 - \\sigma_Y^2 + \\alpha\\sigma_Y^2+\\sigma_{XY} - 2\\alpha\\sigma_{XY} = 0$$\n",
    "\n",
    "Grouping terms with $\\alpha$ gives us  \n",
    "\n",
    "$$\\alpha(\\sigma_X^2 + \\sigma_Y^2 - 2\\sigma_{XY}) - \\sigma_Y^2 + \\sigma_{XY} = 0$$  \n",
    "\n",
    "$$\\alpha(\\sigma_X^2 + \\sigma_Y^2 - 2\\sigma_{XY}) = \\sigma_Y^2 - \\sigma_{XY}$$  \n",
    "\n",
    "Now solve for $\\alpha$  \n",
    "\n",
    "$$\\alpha = \\frac{\\sigma_Y^2 - \\sigma_{XY}}{\\sigma_X^2 + \\sigma_Y^2 - 2\\sigma_{XY}}$$"
   ]
  },
  {
   "cell_type": "markdown",
   "metadata": {},
   "source": [
    "**2 (a)**:  \n",
    "The probability is equal to not selecting that one observation out of all observations:  \n",
    "\n",
    "$$\\frac{n-1}{n}=1-\\frac{1}{n}$$  \n",
    "\n",
    "**2 (b)**:  \n",
    "Because the bootstrap uses replacement, the probability is the same as in **2 (a)**:  \n",
    "\n",
    "$$\\frac{n-1}{n}=1-\\frac{1}{n}$$  \n",
    "\n",
    "**2 (c)**:  \n",
    "Because the bootstrap samples with replacement, each observation has the same $1-\\frac{1}{n}$ probability of not equalling the $j$th observation. After $n$ selections, the probability of never selecting the $j$th observation is $(\\frac{n-1}{n})^n=(1-\\frac{1}{n})^n$  \n",
    "\n",
    "**2 (d)**:  \n",
    "The probability that the $j$th observation is **not** in the bootstrap, $Pr(out)$, is $(1-\\frac{1}{n})^n$. The probability that the $j$th observation is in the bootstrap, $Pr(in)$, is equal to $1-Pr(out)$:  \n",
    "\n",
    "$$Pr(in) = 1 - Pr(out) = 1 - (1 - \\frac{1}{n})^n = 1 - (1 - \\frac{1}{5})^5 = 0.6723 = 67.23\\%$$  \n",
    "\n",
    "**2 (e)**:  \n",
    "Following the same logic as **2 (d)**:  \n",
    "\n",
    "$$Pr(in) = 1 - Pr(out) = 1 - (1 - \\frac{1}{n})^n = 1 - (1 - \\frac{1}{100})^100 = 0.6340 = 63.40\\%$$  \n",
    "\n",
    "**2 (f)**:  \n",
    "\n",
    "$$Pr(in) = 1 - Pr(out) = 1 - (1 - \\frac{1}{n})^n = 1 - (1 - \\frac{1}{10000})^10000 = 0.6321 = 63.21\\%$$\n",
    "\n",
    "**2 (g)**:  \n",
    "$$Pr(in) = 1 - Pr(out) = 1 - (1 - \\frac{1}{n})^n = 1 - (1 - \\frac{1}{100000})^100000 = 0.6321 = 63.21\\%$$  "
   ]
  },
  {
   "cell_type": "code",
   "execution_count": 2,
   "metadata": {
    "collapsed": false
   },
   "outputs": [
    {
     "data": {
      "text/plain": [
       "<matplotlib.collections.PathCollection at 0xa546048>"
      ]
     },
     "execution_count": 2,
     "metadata": {},
     "output_type": "execute_result"
    },
    {
     "data": {
      "image/png": "[encoded data removed]",
      "text/plain": [
       "<matplotlib.figure.Figure at 0x69d0c50>"
      ]
     },
     "metadata": {},
     "output_type": "display_data"
    }
   ],
   "source": [
    "import numpy as np\n",
    "import matplotlib.pyplot as plt\n",
    "\n",
    "%matplotlib inline\n",
    "\n",
    "x = np.linspace(1, 100001, 1000000)\n",
    "y = 1 - (1 - 1/x)**x\n",
    "\n",
    "plt.scatter(x, y)"
   ]
  },
  {
   "cell_type": "markdown",
   "metadata": {},
   "source": [
    "The plot quickly reaches an asymptote of about 63.2%  \n",
    "\n",
    "**2 (h)**:  "
   ]
  },
  {
   "cell_type": "code",
   "execution_count": 3,
   "metadata": {
    "collapsed": false
   },
   "outputs": [
    {
     "name": "stdout",
     "output_type": "stream",
     "text": [
      "64.01%\n"
     ]
    }
   ],
   "source": [
    "from sklearn.utils import resample\n",
    "\n",
    "n = 100\n",
    "obs = np.arange(1, n+1)\n",
    "counter = 0\n",
    "for i in range(10000):\n",
    "    obs_rs = resample(obs)\n",
    "    if 4 in obs_rs:\n",
    "        counter += 1\n",
    "print('{:.2f}%'.format(counter / 10000 * 100))"
   ]
  },
  {
   "cell_type": "markdown",
   "metadata": {},
   "source": [
    "This is very close to the results above. With more iterations of the loop, it would be even closer."
   ]
  },
  {
   "cell_type": "markdown",
   "metadata": {},
   "source": [
    "**3 (a)**:  \n",
    "$k$-fold cross-validation works by taking $k$ random, non-overlapping splits, or folds, of the $n$ observations. The first fold serves as the validation set, while the remaining $k-1$ splits are used to fit the statistical learning method. The mean squared error is then computed for the validation set. This procedure is repeated $k$ times. The test error rate is estimated by averaging the $k$ resulting MSE estimates.  \n",
    "\n",
    "**3 (b)**:  \n",
    "\n",
    " **i.** $k$-fold CV has less variance but more bias than validation CV  \n",
    " \n",
    " **ii.** $k$-fold has more variance but less bias than LOOCV"
   ]
  },
  {
   "cell_type": "markdown",
   "metadata": {},
   "source": [
    "**4**:  \n",
    "We can use the bootstrap method to sample with replacement from our dataset and estimate the $Y$'s from each sample. With the results of different $\\widehat{Y}$'s, we can then estimate the standard deviation of our prediction."
   ]
  },
  {
   "cell_type": "markdown",
   "metadata": {},
   "source": [
    "## Applied"
   ]
  },
  {
   "cell_type": "markdown",
   "metadata": {},
   "source": [
    "**5 (a)**"
   ]
  },
  {
   "cell_type": "code",
   "execution_count": 4,
   "metadata": {
    "collapsed": true
   },
   "outputs": [],
   "source": [
    "import pandas as pd\n",
    "from sklearn.model_selection import train_test_split\n",
    "from sklearn.linear_model import LogisticRegression\n",
    "\n",
    "default = pd.read_csv('../../data/Default.csv', index_col=0)\n",
    "\n",
    "X = default[['balance', 'income']].values\n",
    "y = default['default'].values"
   ]
  },
  {
   "cell_type": "code",
   "execution_count": 5,
   "metadata": {
    "collapsed": true
   },
   "outputs": [],
   "source": [
    "logit = LogisticRegression()\n",
    "logit.fit(X, y)\n",
    "y_pred = logit.predict(X)"
   ]
  },
  {
   "cell_type": "markdown",
   "metadata": {},
   "source": [
    "**5 (b)**:"
   ]
  },
  {
   "cell_type": "code",
   "execution_count": 6,
   "metadata": {
    "collapsed": false
   },
   "outputs": [
    {
     "name": "stdout",
     "output_type": "stream",
     "text": [
      "Test error rate: 3.28%\n"
     ]
    }
   ],
   "source": [
    "X_train, X_test, y_train, y_test = train_test_split(X, y, test_size=5000, random_state=420)\n",
    "\n",
    "logit.fit(X_train, y_train)\n",
    "y_pred = logit.predict(X_test)\n",
    "\n",
    "print('Test error rate: {:.2f}%'.format((y_pred != y_test).sum() / len(y_test) * 100))"
   ]
  },
  {
   "cell_type": "markdown",
   "metadata": {},
   "source": [
    "**5 (c)**:"
   ]
  },
  {
   "cell_type": "code",
   "execution_count": 7,
   "metadata": {
    "collapsed": false
   },
   "outputs": [
    {
     "name": "stdout",
     "output_type": "stream",
     "text": [
      "Test error rate 0: 3.76%\n",
      "Test error rate 1: 3.22%\n",
      "Test error rate 2: 3.12%\n"
     ]
    }
   ],
   "source": [
    "for i in range(3):\n",
    "    X_train, X_test, y_train, y_test = train_test_split(X, y, test_size=5000, random_state=i)\n",
    "    logit.fit(X_train, y_train)\n",
    "    y_pred = logit.predict(X_test)\n",
    "    print('Test error rate {}: {:.2f}%'.format(i, (y_pred != y_test).sum() / len(y_test) * 100))"
   ]
  },
  {
   "cell_type": "markdown",
   "metadata": {},
   "source": [
    "The test error rate predictions are all similar to the actual default rate of 3.33% but shows some variance on either side of the actual default rate."
   ]
  },
  {
   "cell_type": "markdown",
   "metadata": {},
   "source": [
    "**5 (d)**:  "
   ]
  },
  {
   "cell_type": "code",
   "execution_count": 8,
   "metadata": {
    "collapsed": false
   },
   "outputs": [
    {
     "name": "stdout",
     "output_type": "stream",
     "text": [
      "Test error rate: 3.36%\n"
     ]
    }
   ],
   "source": [
    "default2 = pd.get_dummies(default, drop_first=True)\n",
    "\n",
    "X = default2[['balance', 'income', 'student_Yes']].values\n",
    "y = default2['default_Yes']\n",
    "\n",
    "logit.fit(X, y)\n",
    "y_pred = logit.predict(X)\n",
    "\n",
    "print('Test error rate: {:.2f}%'.format((y_pred != y).sum() / len(y) * 100))"
   ]
  },
  {
   "cell_type": "markdown",
   "metadata": {},
   "source": [
    "Although this is very close to the true default rate in the data set, it's not clear whether this is an improvement for the model."
   ]
  },
  {
   "cell_type": "markdown",
   "metadata": {},
   "source": [
    "**6 (a)**:"
   ]
  },
  {
   "cell_type": "code",
   "execution_count": 10,
   "metadata": {
    "collapsed": false
   },
   "outputs": [
    {
     "name": "stdout",
     "output_type": "stream",
     "text": [
      "Optimization terminated successfully.\n",
      "         Current function value: 0.078948\n",
      "         Iterations 10\n"
     ]
    },
    {
     "data": {
      "text/html": [
       "<table class=\"simpletable\">\n",
       "<tr>\n",
       "      <td></td>         <th>coef</th>     <th>std err</th>      <th>z</th>      <th>P>|z|</th>  <th>[0.025</th>    <th>0.975]</th>  \n",
       "</tr>\n",
       "<tr>\n",
       "  <th>Intercept</th> <td>  -11.5405</td> <td>    0.435</td> <td>  -26.544</td> <td> 0.000</td> <td>  -12.393</td> <td>  -10.688</td>\n",
       "</tr>\n",
       "<tr>\n",
       "  <th>balance</th>   <td>    0.0056</td> <td>    0.000</td> <td>   24.835</td> <td> 0.000</td> <td>    0.005</td> <td>    0.006</td>\n",
       "</tr>\n",
       "<tr>\n",
       "  <th>income</th>    <td> 2.081e-05</td> <td> 4.99e-06</td> <td>    4.174</td> <td> 0.000</td> <td>  1.1e-05</td> <td> 3.06e-05</td>\n",
       "</tr>\n",
       "</table>"
      ],
      "text/plain": [
       "<class 'statsmodels.iolib.table.SimpleTable'>"
      ]
     },
     "execution_count": 10,
     "metadata": {},
     "output_type": "execute_result"
    }
   ],
   "source": [
    "import statsmodels.formula.api as smf\n",
    "\n",
    "default = pd.read_csv('../../data/Default.csv', index_col=0)\n",
    "default2 = pd.get_dummies(default, drop_first=True)\n",
    "\n",
    "smf.logit('default_Yes ~ balance + income', default2).fit().summary().tables[1]"
   ]
  },
  {
   "cell_type": "markdown",
   "metadata": {
    "collapsed": true
   },
   "source": [
    "**6 (b)**: \n"
   ]
  },
  {
   "cell_type": "code",
   "execution_count": 11,
   "metadata": {
    "collapsed": true
   },
   "outputs": [],
   "source": [
    "def boot(default):#, index):\n",
    "    #default = default.iloc[index]\n",
    "    logit = smf.logit('default_Yes ~ balance + income', default).fit(disp=0)\n",
    "    return logit.params"
   ]
  },
  {
   "cell_type": "markdown",
   "metadata": {},
   "source": [
    "**6 (c)**:"
   ]
  },
  {
   "cell_type": "code",
   "execution_count": 12,
   "metadata": {
    "collapsed": true
   },
   "outputs": [],
   "source": [
    "bal_coef = np.array([])\n",
    "inc_coef = np.array([])\n",
    "for i in range(100):\n",
    "    params = boot(resample(default2))\n",
    "    bal_coef = np.append(bal_coef, params['balance'])\n",
    "    inc_coef = np.append(inc_coef, params['income'])"
   ]
  },
  {
   "cell_type": "code",
   "execution_count": 13,
   "metadata": {
    "collapsed": false
   },
   "outputs": [
    {
     "name": "stdout",
     "output_type": "stream",
     "text": [
      "Balance:\n",
      "\tCoefficient: 0.0057\n",
      "\tStd. Error: 0.0002\n",
      "\n",
      "Income:\n",
      "\tCoefficient: 2.0390e-05\n",
      "\tStd. Error: 4.2941e-06\n",
      "\n"
     ]
    }
   ],
   "source": [
    "print('Balance:\\n\\tCoefficient: {:.4f}\\n\\tStd. Error: {:.4f}\\n' \\\n",
    "      .format(bal_coef.mean(), bal_coef.std()))\n",
    "print('Income:\\n\\tCoefficient: {:.4e}\\n\\tStd. Error: {:.4e}\\n' \\\n",
    "      .format(inc_coef.mean(), inc_coef.std()))"
   ]
  },
  {
   "cell_type": "markdown",
   "metadata": {},
   "source": [
    "**6 (d)**:\n",
    "\n",
    "The estimated standard errors obtained by the two methods are very close.\n",
    "\n",
    "**7 (a)**:"
   ]
  },
  {
   "cell_type": "code",
   "execution_count": 42,
   "metadata": {
    "collapsed": false
   },
   "outputs": [
    {
     "name": "stdout",
     "output_type": "stream",
     "text": [
      "Intercept: [ 0.22039089]\n",
      "Coefficients: [[-0.03867021  0.06022514]]\n"
     ]
    }
   ],
   "source": [
    "weekly = pd.read_csv('../../data/Weekly.csv')\n",
    "weekly2 = pd.get_dummies(weekly, drop_first=True)\n",
    "\n",
    "X = weekly[['Lag1', 'Lag2']].values\n",
    "y = weekly['Direction'].values\n",
    "\n",
    "logit = LogisticRegression()\n",
    "logit.fit(X, y)\n",
    "print('Intercept: {}\\nCoefficients: {}'.format(logit.intercept_, logit.coef_))"
   ]
  },
  {
   "cell_type": "markdown",
   "metadata": {},
   "source": [
    "**7 (b)**:"
   ]
  },
  {
   "cell_type": "code",
   "execution_count": 43,
   "metadata": {
    "collapsed": false
   },
   "outputs": [
    {
     "data": {
      "text/plain": [
       "LogisticRegression(C=1.0, class_weight=None, dual=False, fit_intercept=True,\n",
       "          intercept_scaling=1, max_iter=100, multi_class='ovr', n_jobs=1,\n",
       "          penalty='l2', random_state=None, solver='liblinear', tol=0.0001,\n",
       "          verbose=0, warm_start=False)"
      ]
     },
     "execution_count": 43,
     "metadata": {},
     "output_type": "execute_result"
    }
   ],
   "source": [
    "index = list(range(len(weekly2)))\n",
    "\n",
    "X_train, X_test = X[index[1:]], X[index[0]]\n",
    "y_train, y_test = y[index[1:]], y[index[0]]\n",
    "\n",
    "logit.fit(X_train, y_train)"
   ]
  },
  {
   "cell_type": "markdown",
   "metadata": {},
   "source": [
    "**7 (c)**:"
   ]
  },
  {
   "cell_type": "code",
   "execution_count": 44,
   "metadata": {
    "collapsed": false
   },
   "outputs": [
    {
     "name": "stdout",
     "output_type": "stream",
     "text": [
      "Predicted: Up\n",
      "Actual: Down\n"
     ]
    }
   ],
   "source": [
    "y_pred = logit.predict(X_test.reshape(1, -1))\n",
    "\n",
    "print('Predicted: {}\\nActual: {}'.format(y_pred[0], y_test))"
   ]
  },
  {
   "cell_type": "markdown",
   "metadata": {
    "collapsed": true
   },
   "source": [
    "The observation was not classified correctly.\n",
    "\n",
    "**7 (d)**:  "
   ]
  },
  {
   "cell_type": "code",
   "execution_count": 56,
   "metadata": {
    "collapsed": false,
    "scrolled": true
   },
   "outputs": [],
   "source": [
    "from sklearn.model_selection import LeaveOneOut\n",
    "\n",
    "loo = LeaveOneOut()\n",
    "true_up = np.zeros_like(y)\n",
    "#i\n",
    "for train_index, test_index in loo.split(X):\n",
    "    X_train, X_test = X[train_index], X[test_index]\n",
    "    y_train, y_test = y[train_index], y[test_index]\n",
    "    #ii\n",
    "    logit.fit(X_train, y_train)\n",
    "    #iii\n",
    "    y_pred = logit.predict(X_test)\n",
    "    #iv\n",
    "    if y_pred == y_test:\n",
    "        true_up[test_index] = 1"
   ]
  },
  {
   "cell_type": "markdown",
   "metadata": {},
   "source": [
    "**7 (e)**:"
   ]
  },
  {
   "cell_type": "code",
   "execution_count": 57,
   "metadata": {
    "collapsed": false
   },
   "outputs": [
    {
     "data": {
      "text/plain": [
       "0.5500459136822773"
      ]
     },
     "execution_count": 57,
     "metadata": {},
     "output_type": "execute_result"
    }
   ],
   "source": [
    "true_up.mean()"
   ]
  },
  {
   "cell_type": "markdown",
   "metadata": {},
   "source": [
    "**8 (a)**:"
   ]
  },
  {
   "cell_type": "code",
   "execution_count": 100,
   "metadata": {
    "collapsed": true
   },
   "outputs": [],
   "source": [
    "np.random.seed(12)\n",
    "x = np.random.normal(size=100)\n",
    "y = x - 2 * x**2 + np.random.normal(size=100)"
   ]
  },
  {
   "cell_type": "markdown",
   "metadata": {},
   "source": [
    "$n = 100$  \n",
    "$p = 2$  \n",
    "$Y = X - 2X^2 + \\epsilon$"
   ]
  },
  {
   "cell_type": "markdown",
   "metadata": {},
   "source": [
    "**8 (b)**:"
   ]
  },
  {
   "cell_type": "code",
   "execution_count": 101,
   "metadata": {
    "collapsed": false
   },
   "outputs": [
    {
     "data": {
      "text/plain": [
       "<matplotlib.collections.PathCollection at 0x1ab8e518>"
      ]
     },
     "execution_count": 101,
     "metadata": {},
     "output_type": "execute_result"
    },
    {
     "data": {
      "image/png": "[encoded data removed]",
      "text/plain": [
       "<matplotlib.figure.Figure at 0x1ab39f60>"
      ]
     },
     "metadata": {},
     "output_type": "display_data"
    }
   ],
   "source": [
    "plt.scatter(x, y)"
   ]
  },
  {
   "cell_type": "markdown",
   "metadata": {},
   "source": [
    "**8 (c)**:"
   ]
  },
  {
   "cell_type": "code",
   "execution_count": 102,
   "metadata": {
    "collapsed": false
   },
   "outputs": [
    {
     "name": "stdout",
     "output_type": "stream",
     "text": [
      "LOOCV MSE estimate for poly(1): 13.6719\n",
      "LOOCV MSE estimate for poly(2): 1.0918\n",
      "LOOCV MSE estimate for poly(3): 1.1156\n",
      "LOOCV MSE estimate for poly(4): 1.2162\n"
     ]
    }
   ],
   "source": [
    "from sklearn.preprocessing import PolynomialFeatures as poly\n",
    "from sklearn.linear_model import LinearRegression\n",
    "\n",
    "lr = LinearRegression()\n",
    "loo = LeaveOneOut()\n",
    "\n",
    "for i in range(1, 5):\n",
    "    p = poly(i)\n",
    "    X = p.fit_transform(x.reshape(-1, 1))\n",
    "    loo_mse = np.zeros_like(y)\n",
    "    for train_index, test_index in loo.split(X):\n",
    "        X_train, X_test = X[train_index], X[test_index]\n",
    "        y_train, y_test = y[train_index], y[test_index]\n",
    "        lr.fit(X_train, y_train)\n",
    "        y_pred = lr.predict(X_test)\n",
    "        loo_mse[test_index] = (y_pred - y_test)**2\n",
    "    print('LOOCV MSE estimate for poly({}): {:.4f}'.format(i,loo_mse.mean()))"
   ]
  },
  {
   "cell_type": "markdown",
   "metadata": {},
   "source": [
    "**8 (d)**:"
   ]
  },
  {
   "cell_type": "code",
   "execution_count": 104,
   "metadata": {
    "collapsed": false
   },
   "outputs": [
    {
     "name": "stdout",
     "output_type": "stream",
     "text": [
      "LOOCV MSE estimate for poly(1): 13.6719\n",
      "LOOCV MSE estimate for poly(2): 1.0918\n",
      "LOOCV MSE estimate for poly(3): 1.1156\n",
      "LOOCV MSE estimate for poly(4): 1.2162\n"
     ]
    }
   ],
   "source": [
    "np.random.seed(100)\n",
    "\n",
    "for i in range(1, 5):\n",
    "    p = poly(i)\n",
    "    X = p.fit_transform(x.reshape(-1, 1))\n",
    "    loo_mse = np.zeros_like(y)\n",
    "    for train_index, test_index in loo.split(X):\n",
    "        X_train, X_test = X[train_index], X[test_index]\n",
    "        y_train, y_test = y[train_index], y[test_index]\n",
    "        lr.fit(X_train, y_train)\n",
    "        y_pred = lr.predict(X_test)\n",
    "        loo_mse[test_index] = (y_pred - y_test)**2\n",
    "    print('LOOCV MSE estimate for poly({}): {:.4f}'.format(i,loo_mse.mean()))"
   ]
  },
  {
   "cell_type": "markdown",
   "metadata": {},
   "source": [
    "Since LOOCV evaluates $n$ folds of the dataset (i.e. once per observation), the random seed does not affect how LOOCV operates, and thus does not affect the LOOCV MSE estimates."
   ]
  },
  {
   "cell_type": "markdown",
   "metadata": {},
   "source": [
    "**8 (e)**:  \n",
    "The quadratic polynomial had the lowest LOOCV test error rate. This is expected because it matches the true form of $Y$.  \n",
    "\n",
    "**8 (f)**:  "
   ]
  },
  {
   "cell_type": "code",
   "execution_count": 122,
   "metadata": {
    "collapsed": false
   },
   "outputs": [
    {
     "data": {
      "text/html": [
       "<table class=\"simpletable\">\n",
       "<caption>OLS Regression Results</caption>\n",
       "<tr>\n",
       "  <th>Dep. Variable:</th>            <td>y</td>        <th>  R-squared:         </th> <td>   0.927</td>\n",
       "</tr>\n",
       "<tr>\n",
       "  <th>Model:</th>                   <td>OLS</td>       <th>  Adj. R-squared:    </th> <td>   0.924</td>\n",
       "</tr>\n",
       "<tr>\n",
       "  <th>Method:</th>             <td>Least Squares</td>  <th>  F-statistic:       </th> <td>   301.9</td>\n",
       "</tr>\n",
       "<tr>\n",
       "  <th>Date:</th>             <td>Mon, 30 Oct 2017</td> <th>  Prob (F-statistic):</th> <td>4.41e-53</td>\n",
       "</tr>\n",
       "<tr>\n",
       "  <th>Time:</th>                 <td>07:58:39</td>     <th>  Log-Likelihood:    </th> <td> -143.27</td>\n",
       "</tr>\n",
       "<tr>\n",
       "  <th>No. Observations:</th>      <td>   100</td>      <th>  AIC:               </th> <td>   296.5</td>\n",
       "</tr>\n",
       "<tr>\n",
       "  <th>Df Residuals:</th>          <td>    95</td>      <th>  BIC:               </th> <td>   309.6</td>\n",
       "</tr>\n",
       "<tr>\n",
       "  <th>Df Model:</th>              <td>     4</td>      <th>                     </th>     <td> </td>   \n",
       "</tr>\n",
       "<tr>\n",
       "  <th>Covariance Type:</th>      <td>nonrobust</td>    <th>                     </th>     <td> </td>   \n",
       "</tr>\n",
       "</table>\n",
       "<table class=\"simpletable\">\n",
       "<tr>\n",
       "      <td></td>         <th>coef</th>     <th>std err</th>      <th>t</th>      <th>P>|t|</th>  <th>[0.025</th>    <th>0.975]</th>  \n",
       "</tr>\n",
       "<tr>\n",
       "  <th>Intercept</th> <td>   -0.1705</td> <td>    0.144</td> <td>   -1.187</td> <td> 0.238</td> <td>   -0.456</td> <td>    0.115</td>\n",
       "</tr>\n",
       "<tr>\n",
       "  <th>x[0]</th>      <td>    0.7723</td> <td>    0.167</td> <td>    4.630</td> <td> 0.000</td> <td>    0.441</td> <td>    1.103</td>\n",
       "</tr>\n",
       "<tr>\n",
       "  <th>x[1]</th>      <td>   -2.1175</td> <td>    0.151</td> <td>  -13.994</td> <td> 0.000</td> <td>   -2.418</td> <td>   -1.817</td>\n",
       "</tr>\n",
       "<tr>\n",
       "  <th>x[2]</th>      <td>    0.0300</td> <td>    0.037</td> <td>    0.807</td> <td> 0.422</td> <td>   -0.044</td> <td>    0.104</td>\n",
       "</tr>\n",
       "<tr>\n",
       "  <th>x[3]</th>      <td>    0.0161</td> <td>    0.021</td> <td>    0.784</td> <td> 0.435</td> <td>   -0.025</td> <td>    0.057</td>\n",
       "</tr>\n",
       "</table>\n",
       "<table class=\"simpletable\">\n",
       "<tr>\n",
       "  <th>Omnibus:</th>       <td> 0.848</td> <th>  Durbin-Watson:     </th> <td>   1.904</td>\n",
       "</tr>\n",
       "<tr>\n",
       "  <th>Prob(Omnibus):</th> <td> 0.655</td> <th>  Jarque-Bera (JB):  </th> <td>   0.793</td>\n",
       "</tr>\n",
       "<tr>\n",
       "  <th>Skew:</th>          <td> 0.213</td> <th>  Prob(JB):          </th> <td>   0.673</td>\n",
       "</tr>\n",
       "<tr>\n",
       "  <th>Kurtosis:</th>      <td> 2.902</td> <th>  Cond. No.          </th> <td>    25.4</td>\n",
       "</tr>\n",
       "</table>"
      ],
      "text/plain": [
       "<class 'statsmodels.iolib.summary.Summary'>\n",
       "\"\"\"\n",
       "                            OLS Regression Results                            \n",
       "==============================================================================\n",
       "Dep. Variable:                      y   R-squared:                       0.927\n",
       "Model:                            OLS   Adj. R-squared:                  0.924\n",
       "Method:                 Least Squares   F-statistic:                     301.9\n",
       "Date:                Mon, 30 Oct 2017   Prob (F-statistic):           4.41e-53\n",
       "Time:                        07:58:39   Log-Likelihood:                -143.27\n",
       "No. Observations:                 100   AIC:                             296.5\n",
       "Df Residuals:                      95   BIC:                             309.6\n",
       "Df Model:                           4                                         \n",
       "Covariance Type:            nonrobust                                         \n",
       "==============================================================================\n",
       "                 coef    std err          t      P>|t|      [0.025      0.975]\n",
       "------------------------------------------------------------------------------\n",
       "Intercept     -0.1705      0.144     -1.187      0.238      -0.456       0.115\n",
       "x[0]           0.7723      0.167      4.630      0.000       0.441       1.103\n",
       "x[1]          -2.1175      0.151    -13.994      0.000      -2.418      -1.817\n",
       "x[2]           0.0300      0.037      0.807      0.422      -0.044       0.104\n",
       "x[3]           0.0161      0.021      0.784      0.435      -0.025       0.057\n",
       "==============================================================================\n",
       "Omnibus:                        0.848   Durbin-Watson:                   1.904\n",
       "Prob(Omnibus):                  0.655   Jarque-Bera (JB):                0.793\n",
       "Skew:                           0.213   Prob(JB):                        0.673\n",
       "Kurtosis:                       2.902   Cond. No.                         25.4\n",
       "==============================================================================\n",
       "\n",
       "Warnings:\n",
       "[1] Standard Errors assume that the covariance matrix of the errors is correctly specified.\n",
       "\"\"\""
      ]
     },
     "execution_count": 122,
     "metadata": {},
     "output_type": "execute_result"
    }
   ],
   "source": [
    "smf.ols('y ~ x', {'y': y, 'x': X[:, 1:]}).fit().summary()"
   ]
  },
  {
   "cell_type": "markdown",
   "metadata": {},
   "source": [
    "The p-values show statistical significance for the linear and quadratic coefficients, which agrees with the results from LOOCV.  \n",
    "\n",
    "**9 (a)**:  "
   ]
  },
  {
   "cell_type": "code",
   "execution_count": 145,
   "metadata": {
    "collapsed": false
   },
   "outputs": [
    {
     "name": "stdout",
     "output_type": "stream",
     "text": [
      "medv mean estimate: 22.5328\n"
     ]
    }
   ],
   "source": [
    "from sklearn.datasets import load_boston\n",
    "\n",
    "boston_raw = load_boston()\n",
    "boston = pd.DataFrame(boston_raw['data'], columns=boston_raw['feature_names'])\n",
    "boston['MEDV'] = boston_raw['target']\n",
    "boston.columns = boston.columns.str.lower()\n",
    "\n",
    "mu_hat = boston['medv'].mean()\n",
    "\n",
    "print('medv mean estimate: {:.4f}'.format(mu_hat))"
   ]
  },
  {
   "cell_type": "markdown",
   "metadata": {},
   "source": [
    "**9 (b)**:"
   ]
  },
  {
   "cell_type": "code",
   "execution_count": 146,
   "metadata": {
    "collapsed": false
   },
   "outputs": [
    {
     "name": "stdout",
     "output_type": "stream",
     "text": [
      "medv standard error estimate: 0.4089\n"
     ]
    }
   ],
   "source": [
    "print('medv standard error estimate: {:.4f}'.format(boston['medv'].std() / np.sqrt(len(boston))))"
   ]
  },
  {
   "cell_type": "markdown",
   "metadata": {},
   "source": [
    "**9 (c)**:"
   ]
  },
  {
   "cell_type": "code",
   "execution_count": 155,
   "metadata": {
    "collapsed": false
   },
   "outputs": [
    {
     "name": "stdout",
     "output_type": "stream",
     "text": [
      "Bootstrap medv mean estimate: 22.5501\n",
      "Bootstrap medv standard error estimate: 0.4085\n"
     ]
    }
   ],
   "source": [
    "boot_mean = []\n",
    "boot_std = []\n",
    "for i in range(1000):\n",
    "    tmp = resample(boston['medv'])\n",
    "    boot_mean.append(tmp.mean())\n",
    "    boot_std.append(tmp.std() / np.sqrt(len(tmp)))\n",
    "    \n",
    "boot_mean = np.mean(boot_mean)\n",
    "boot_std = np.mean(boot_std)\n",
    "print('Bootstrap medv mean estimate: {:.4f}'.format(boot_mean))\n",
    "print('Bootstrap medv standard error estimate: {:.4f}'.format(boot_std))"
   ]
  },
  {
   "cell_type": "markdown",
   "metadata": {},
   "source": [
    "This is very close to the standard error estimate in **9 (b)**  \n",
    "\n",
    "**9 (d)**:"
   ]
  },
  {
   "cell_type": "code",
   "execution_count": 162,
   "metadata": {
    "collapsed": false
   },
   "outputs": [
    {
     "name": "stdout",
     "output_type": "stream",
     "text": [
      "Actual Conf Int\n",
      "21.7295280146 23.3360846336\n",
      "\n",
      "Bootstrap Conf Int\n",
      "21.7329849951 23.3671331867\n"
     ]
    }
   ],
   "source": [
    "import statsmodels.stats.api as sms\n",
    "\n",
    "print('Actual Conf Int')\n",
    "print(sms.DescrStatsW(boston['medv']).tconfint_mean()[0], \n",
    "      sms.DescrStatsW(boston['medv']).tconfint_mean()[1])\n",
    "print('\\nBootstrap Conf Int')\n",
    "print(boot_mean - 2 * boot_std, boot_mean + 2 * boot_std)"
   ]
  },
  {
   "cell_type": "markdown",
   "metadata": {},
   "source": [
    "The bootstrap confidence interval is very close to the t-test confidence interval.  \n",
    "\n",
    "**9 (e)**:"
   ]
  },
  {
   "cell_type": "code",
   "execution_count": 163,
   "metadata": {
    "collapsed": false
   },
   "outputs": [
    {
     "name": "stdout",
     "output_type": "stream",
     "text": [
      "medv estimated median: 21.2\n"
     ]
    }
   ],
   "source": [
    "mu_med_hat = boston['medv'].median()\n",
    "print('medv estimated median: {}'.format(mu_med_hat))"
   ]
  },
  {
   "cell_type": "markdown",
   "metadata": {},
   "source": [
    "**9 (f)**:"
   ]
  },
  {
   "cell_type": "code",
   "execution_count": 170,
   "metadata": {
    "collapsed": false
   },
   "outputs": [
    {
     "name": "stdout",
     "output_type": "stream",
     "text": [
      "Bootstrap medv estimated median: 21.1774\n",
      "Bootstrap estimated std error: 0.1541\n"
     ]
    }
   ],
   "source": [
    "boot_med = []\n",
    "boot_err = []\n",
    "\n",
    "for i in range(1000):\n",
    "    tmp = resample(boston['medv'], random_state=i)\n",
    "    boot_med.append(tmp.median())\n",
    "    boot_err.append((tmp.median() - mu_med_hat)**2)\n",
    "print('Bootstrap medv estimated median: {:.4f}'.format(np.mean(boot_med)))\n",
    "print('Bootstrap estimated std error: {:.4f}'.format(np.mean(boot_err)))"
   ]
  },
  {
   "cell_type": "markdown",
   "metadata": {},
   "source": [
    "We get an estimated median of about 21.2 which is equal to the median value obtained in **9 (e)** with a standard error of 0.15, which is small relative to the estimated median value.  \n",
    "\n",
    "**9 (g)**:"
   ]
  },
  {
   "cell_type": "code",
   "execution_count": 175,
   "metadata": {
    "collapsed": false
   },
   "outputs": [
    {
     "name": "stdout",
     "output_type": "stream",
     "text": [
      "medv 10% percentile: 12.75\n"
     ]
    }
   ],
   "source": [
    "mu_tenth = boston['medv'].quantile(0.1)\n",
    "print('medv 10th percentile: {}'.format(mu))"
   ]
  },
  {
   "cell_type": "markdown",
   "metadata": {},
   "source": [
    "**9 (h)**:"
   ]
  },
  {
   "cell_type": "code",
   "execution_count": 181,
   "metadata": {
    "collapsed": false
   },
   "outputs": [
    {
     "name": "stdout",
     "output_type": "stream",
     "text": [
      "Bootstrap 10th percentile estimate: 12.6500\n",
      "Bootstrap 10th percentile std error: 0.2495\n"
     ]
    }
   ],
   "source": [
    "boot_tenth_err = []\n",
    "\n",
    "for i in range(1000):\n",
    "    tmp = resample(boston['medv'], random_state=i)\n",
    "    boot_tenth = tmp.quantile(0.1)\n",
    "    boot_tenth_err.append((mu_tenth - boot_tenth)**2)\n",
    "    \n",
    "print('Bootstrap 10th percentile estimate: {:.4f}'.format(np.mean(boot_tenth)))\n",
    "print('Bootstrap 10th percentile std error: {:.4f}'.format(np.mean(boot_tenth_err)))"
   ]
  },
  {
   "cell_type": "markdown",
   "metadata": {},
   "source": [
    "We get an estimate for the 10th percentile of medv of 12.65 which is very close to the 10th percentile value of 12.75 obtained in **9 (g)**, with a standard error of 0.2495 which is small relative to the 10th percentile value."
   ]
  },
  {
   "cell_type": "markdown",
   "metadata": {},
   "source": []
  }
 ],
 "metadata": {
  "kernelspec": {
   "display_name": "Python 3",
   "language": "python",
   "name": "python3"
  },
  "language_info": {
   "codemirror_mode": {
    "name": "ipython",
    "version": 3
   },
   "file_extension": ".py",
   "mimetype": "text/x-python",
   "name": "python",
   "nbconvert_exporter": "python",
   "pygments_lexer": "ipython3",
   "version": "3.6.0"
  }
 },
 "nbformat": 4,
 "nbformat_minor": 2
}
