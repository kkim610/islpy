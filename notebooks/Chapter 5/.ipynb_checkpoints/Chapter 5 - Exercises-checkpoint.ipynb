{
 "cells": [
  {
   "cell_type": "markdown",
   "metadata": {},
   "source": [
    "## Conceptual"
   ]
  },
  {
   "cell_type": "markdown",
   "metadata": {},
   "source": [
    "**1**:  \n",
    "Use the following rules:  \n",
    "\n",
    "$$Var(X+Y) = Var(X) + Var(Y) + 2Cov(X, Y)$$  \n",
    "$$Var(cX) = c^2Var(X)$$  \n",
    "$$Cov(cX, Y) = Cov(X, cY) = cCov(X, Y)$$\n",
    "\n",
    "to transform $Var(\\alpha X + (1 - \\alpha)Y)$:  \n",
    "\n",
    "$$Var(\\alpha X+(1-\\alpha )Y)=Var(\\alpha X) + Var((1-\\alpha )Y) + 2Cov(\\alpha X, (1-\\alpha )Y)$$  \n",
    "\n",
    "$$=\\alpha^2Var(X) + (1-\\alpha)^2Var(Y) + 2\\alpha (1-\\alpha )Cov(X, Y)$$  \n",
    "\n",
    "$$=\\alpha^2\\sigma_X^2 + (1-\\alpha)^2\\sigma_Y^2 + 2(\\alpha - \\alpha^2)\\sigma_{XY}$$  \n",
    "\n",
    "To minimize $Var(\\alpha X + (1 - \\alpha)Y$, we take the first derivative w.r.t. $\\alpha$ and set it to zero  \n",
    "\n",
    "$$\\frac{d}{d\\alpha}Var(\\alpha X + (1 - \\alpha)Y) = 2 \\alpha \\sigma_X^2 - 2(1-\\alpha)\\sigma_Y^2 + 2(1-2\\alpha)\\sigma_{XY}=0$$  \n",
    "\n",
    "We can divide both sides by 2\n",
    "\n",
    "$$\\alpha\\sigma_X^2 - \\sigma_Y^2 + \\alpha\\sigma_Y^2+\\sigma_{XY} - 2\\alpha\\sigma_{XY} = 0$$\n",
    "\n",
    "Grouping terms with $\\alpha$ gives us  \n",
    "\n",
    "$$\\alpha(\\sigma_X^2 + \\sigma_Y^2 - 2\\sigma_{XY}) - \\sigma_Y^2 + \\sigma_{XY} = 0$$  \n",
    "\n",
    "$$\\alpha(\\sigma_X^2 + \\sigma_Y^2 - 2\\sigma_{XY}) = \\sigma_Y^2 - \\sigma_{XY}$$  \n",
    "\n",
    "Now solve for $\\alpha$  \n",
    "\n",
    "$$\\alpha = \\frac{\\sigma_Y^2 - \\sigma_{XY}}{\\sigma_X^2 + \\sigma_Y^2 - 2\\sigma_{XY}}$$"
   ]
  },
  {
   "cell_type": "markdown",
   "metadata": {},
   "source": [
    "**2 (a)**:  \n",
    "The probability is equal to not selecting that one observation out of all observations:  \n",
    "\n",
    "$$\\frac{n-1}{n}=1-\\frac{1}{n}$$  \n",
    "\n",
    "**2 (b)**:  \n",
    "Because the bootstrap uses replacement, the probability is the same as in **2 (a)**:  \n",
    "\n",
    "$$\\frac{n-1}{n}=1-\\frac{1}{n}$$  \n",
    "\n",
    "**2 (c)**:  \n",
    "Because the bootstrap samples with replacement, each observation has the same $1-\\frac{1}{n}$ probability of not equalling the $j$th observation. After $n$ selections, the probability of never selecting the $j$th observation is $(\\frac{n-1}{n})^n=(1-\\frac{1}{n})^n$  \n",
    "\n",
    "**2 (d)**:  \n",
    "The probability that the $j$th observation is **not** in the bootstrap, $Pr(out)$, is $(1-\\frac{1}{n})^n$. The probability that the $j$th observation is in the bootstrap, $Pr(in)$, is equal to $1-Pr(out)$:  \n",
    "\n",
    "$$Pr(in) = 1 - Pr(out) = 1 - (1 - \\frac{1}{n})^n = 1 - (1 - \\frac{1}{5})^5 = 0.6723 = 67.23\\%$$  \n",
    "\n",
    "**2 (e)**:  \n",
    "Following the same logic as **2 (d)**:  \n",
    "\n",
    "$$Pr(in) = 1 - Pr(out) = 1 - (1 - \\frac{1}{n})^n = 1 - (1 - \\frac{1}{100})^100 = 0.6340 = 63.40\\%$$  \n",
    "\n",
    "**2 (f)**:  \n",
    "\n",
    "$$Pr(in) = 1 - Pr(out) = 1 - (1 - \\frac{1}{n})^n = 1 - (1 - \\frac{1}{10000})^10000 = 0.6321 = 63.21\\%$$\n",
    "\n",
    "**2 (g)**:  \n",
    "$$Pr(in) = 1 - Pr(out) = 1 - (1 - \\frac{1}{n})^n = 1 - (1 - \\frac{1}{100000})^100000 = 0.6321 = 63.21\\%$$  "
   ]
  },
  {
   "cell_type": "code",
   "execution_count": 19,
   "metadata": {},
   "outputs": [
    {
     "data": {
      "text/plain": [
       "<matplotlib.collections.PathCollection at 0x109268358>"
      ]
     },
     "execution_count": 19,
     "metadata": {},
     "output_type": "execute_result"
    },
    {
     "data": {
      "image/png": "[encoded data removed]",
      "text/plain": [
       "<matplotlib.figure.Figure at 0x10770c160>"
      ]
     },
     "metadata": {},
     "output_type": "display_data"
    }
   ],
   "source": [
    "import numpy as np\n",
    "import matplotlib.pyplot as plt\n",
    "\n",
    "%matplotlib inline\n",
    "\n",
    "x = np.linspace(1, 100001, 1000000)\n",
    "y = 1 - (1 - 1/x)**x\n",
    "\n",
    "plt.scatter(x, y)"
   ]
  },
  {
   "cell_type": "markdown",
   "metadata": {},
   "source": [
    "The plot quickly reaches an asymptote of about 63.2%  \n",
    "\n",
    "**2 (h)**:  "
   ]
  },
  {
   "cell_type": "code",
   "execution_count": 20,
   "metadata": {},
   "outputs": [
    {
     "name": "stdout",
     "output_type": "stream",
     "text": [
      "63.75%\n"
     ]
    }
   ],
   "source": [
    "from sklearn.utils import resample\n",
    "\n",
    "n = 100\n",
    "obs = np.arange(1, n+1)\n",
    "counter = 0\n",
    "for i in range(10000):\n",
    "    obs_rs = resample(obs)\n",
    "    if 4 in obs_rs:\n",
    "        counter += 1\n",
    "print('{:.2f}%'.format(counter / 10000 * 100))"
   ]
  },
  {
   "cell_type": "markdown",
   "metadata": {},
   "source": [
    "This is very close to the results above. With more iterations of the loop, it would be even closer."
   ]
  },
  {
   "cell_type": "markdown",
   "metadata": {},
   "source": [
    "**3 (a)**:  \n",
    "$k$-fold cross-validation works by taking $k$ random, non-overlapping splits, or folds, of the $n$ observations. The first fold serves as the validation set, while the remaining $k-1$ splits are used to fit the statistical learning method. The mean squared error is then computed for the validation set. This procedure is repeated $k$ times. The test error rate is estimated by averaging the $k$ resulting MSE estimates.  \n",
    "\n",
    "**3 (b)**:  \n",
    "\n",
    " **i.** $k$-fold CV has less variance but more bias than validation CV  \n",
    " \n",
    " **ii.** $k$-fold has more variance but less bias than LOOCV"
   ]
  },
  {
   "cell_type": "markdown",
   "metadata": {},
   "source": [
    "**4**:  \n",
    "We can use the bootstrap method to sample with replacement from our dataset and estimate the $Y$'s from each sample. With the results of different $\\widehat{Y}$'s, we can then estimate the standard deviation of our prediction."
   ]
  },
  {
   "cell_type": "markdown",
   "metadata": {},
   "source": [
    "## Applied"
   ]
  },
  {
   "cell_type": "markdown",
   "metadata": {},
   "source": [
    "**5 (a)**"
   ]
  },
  {
   "cell_type": "code",
   "execution_count": 21,
   "metadata": {
    "collapsed": true
   },
   "outputs": [],
   "source": [
    "import pandas as pd\n",
    "from sklearn.model_selection import train_test_split\n",
    "from sklearn.linear_model import LogisticRegression\n",
    "\n",
    "default = pd.read_csv('../../data/Default.csv', index_col=0)\n",
    "\n",
    "X = default[['balance', 'income']].values\n",
    "y = default['default'].values"
   ]
  },
  {
   "cell_type": "code",
   "execution_count": 22,
   "metadata": {
    "collapsed": true
   },
   "outputs": [],
   "source": [
    "logit = LogisticRegression()\n",
    "logit.fit(X, y)\n",
    "y_pred = logit.predict(X)"
   ]
  },
  {
   "cell_type": "markdown",
   "metadata": {},
   "source": [
    "**5 (b)**:"
   ]
  },
  {
   "cell_type": "code",
   "execution_count": 23,
   "metadata": {},
   "outputs": [
    {
     "name": "stdout",
     "output_type": "stream",
     "text": [
      "Test error rate: 3.28%\n"
     ]
    }
   ],
   "source": [
    "X_train, X_test, y_train, y_test = train_test_split(X, y, test_size=5000, random_state=420)\n",
    "\n",
    "logit.fit(X_train, y_train)\n",
    "y_pred = logit.predict(X_test)\n",
    "\n",
    "print('Test error rate: {:.2f}%'.format((y_pred != y_test).sum() / len(y_test) * 100))"
   ]
  },
  {
   "cell_type": "markdown",
   "metadata": {},
   "source": [
    "**5 (c)**:"
   ]
  },
  {
   "cell_type": "code",
   "execution_count": 24,
   "metadata": {},
   "outputs": [
    {
     "name": "stdout",
     "output_type": "stream",
     "text": [
      "Test error rate 0: 3.76%\n",
      "Test error rate 1: 3.22%\n",
      "Test error rate 2: 3.12%\n"
     ]
    }
   ],
   "source": [
    "for i in range(3):\n",
    "    X_train, X_test, y_train, y_test = train_test_split(X, y, test_size=5000, random_state=i)\n",
    "    logit.fit(X_train, y_train)\n",
    "    y_pred = logit.predict(X_test)\n",
    "    print('Test error rate {}: {:.2f}%'.format(i, (y_pred != y_test).sum() / len(y_test) * 100))"
   ]
  },
  {
   "cell_type": "markdown",
   "metadata": {},
   "source": [
    "The test error rate predictions are all similar to the actual default rate of 3.33% but shows some variance on either side of the actual default rate."
   ]
  },
  {
   "cell_type": "markdown",
   "metadata": {},
   "source": [
    "**5 (d)**:  "
   ]
  },
  {
   "cell_type": "code",
   "execution_count": 25,
   "metadata": {},
   "outputs": [
    {
     "name": "stdout",
     "output_type": "stream",
     "text": [
      "Test error rate: 3.36%\n"
     ]
    }
   ],
   "source": [
    "default2 = pd.get_dummies(default, drop_first=True)\n",
    "\n",
    "X = default2[['balance', 'income', 'student_Yes']].values\n",
    "y = default2['default_Yes']\n",
    "\n",
    "logit.fit(X, y)\n",
    "y_pred = logit.predict(X)\n",
    "\n",
    "print('Test error rate: {:.2f}%'.format((y_pred != y).sum() / len(y) * 100))"
   ]
  },
  {
   "cell_type": "markdown",
   "metadata": {},
   "source": [
    "Although this is very close to the true default rate in the data set, it's not clear whether this is an improvement for the model."
   ]
  },
  {
   "cell_type": "markdown",
   "metadata": {},
   "source": [
    "**6 (a)**:"
   ]
  },
  {
   "cell_type": "code",
   "execution_count": 50,
   "metadata": {},
   "outputs": [
    {
     "name": "stdout",
     "output_type": "stream",
     "text": [
      "Optimization terminated successfully.\n",
      "         Current function value: 0.078948\n",
      "         Iterations 10\n"
     ]
    },
    {
     "data": {
      "text/html": [
       "<table class=\"simpletable\">\n",
       "<tr>\n",
       "      <td></td>         <th>coef</th>     <th>std err</th>      <th>z</th>      <th>P>|z|</th>  <th>[0.025</th>    <th>0.975]</th>  \n",
       "</tr>\n",
       "<tr>\n",
       "  <th>Intercept</th> <td>  -11.5405</td> <td>    0.435</td> <td>  -26.544</td> <td> 0.000</td> <td>  -12.393</td> <td>  -10.688</td>\n",
       "</tr>\n",
       "<tr>\n",
       "  <th>balance</th>   <td>    0.0056</td> <td>    0.000</td> <td>   24.835</td> <td> 0.000</td> <td>    0.005</td> <td>    0.006</td>\n",
       "</tr>\n",
       "<tr>\n",
       "  <th>income</th>    <td> 2.081e-05</td> <td> 4.99e-06</td> <td>    4.174</td> <td> 0.000</td> <td>  1.1e-05</td> <td> 3.06e-05</td>\n",
       "</tr>\n",
       "</table>"
      ],
      "text/plain": [
       "<class 'statsmodels.iolib.table.SimpleTable'>"
      ]
     },
     "execution_count": 50,
     "metadata": {},
     "output_type": "execute_result"
    }
   ],
   "source": [
    "default = pd.read_csv('../../data/Default.csv', index_col=0)\n",
    "default2 = pd.get_dummies(default, drop_first=True)\n",
    "\n",
    "smf.logit('default_Yes ~ balance + income', default2).fit().summary().tables[1]"
   ]
  },
  {
   "cell_type": "markdown",
   "metadata": {
    "collapsed": true
   },
   "source": [
    "**6 (b)**: \n"
   ]
  },
  {
   "cell_type": "code",
   "execution_count": 57,
   "metadata": {},
   "outputs": [],
   "source": [
    "import statsmodels.formula.api as smf\n",
    "\n",
    "def boot(default):#, index):\n",
    "    #default = default.iloc[index]\n",
    "    logit = smf.logit('default_Yes ~ balance + income', default).fit(disp=0)\n",
    "    return logit.params"
   ]
  },
  {
   "cell_type": "markdown",
   "metadata": {},
   "source": [
    "**6 (c)**:"
   ]
  },
  {
   "cell_type": "code",
   "execution_count": 68,
   "metadata": {},
   "outputs": [],
   "source": [
    "bal_coef = np.array([])\n",
    "inc_coef = np.array([])\n",
    "for i in range(100):\n",
    "    params = boot(resample(default2))\n",
    "    bal_coef = np.append(bal_coef, params['balance'])\n",
    "    inc_coef = np.append(inc_coef, params['income'])"
   ]
  },
  {
   "cell_type": "code",
   "execution_count": 73,
   "metadata": {},
   "outputs": [
    {
     "name": "stdout",
     "output_type": "stream",
     "text": [
      "Balance:\n",
      "\tCoefficient: 0.0056\n",
      "\tStd. Error: 0.0002\n",
      "\n",
      "Income:\n",
      "\tCoefficient: 2.0693e-05\n",
      "\tStd. Error: 4.7433e-06\n",
      "\n"
     ]
    }
   ],
   "source": [
    "print('Balance:\\n\\tCoefficient: {:.4f}\\n\\tStd. Error: {:.4f}\\n' \\\n",
    "      .format(bal_coef.mean(), bal_coef.std()))\n",
    "print('Income:\\n\\tCoefficient: {:.4e}\\n\\tStd. Error: {:.4e}\\n' \\\n",
    "      .format(inc_coef.mean(), inc_coef.std()))"
   ]
  },
  {
   "cell_type": "markdown",
   "metadata": {},
   "source": [
    "**6 (d)**:\n",
    "\n",
    "The estimated standard errors obtained by the two methods are very close.\n",
    "\n",
    "**7 (a)**:"
   ]
  },
  {
   "cell_type": "code",
   "execution_count": 124,
   "metadata": {},
   "outputs": [
    {
     "name": "stdout",
     "output_type": "stream",
     "text": [
      "Intercept: [ 0.22039089]\n",
      "Coefficients: [[-0.03867021  0.06022514]]\n"
     ]
    }
   ],
   "source": [
    "weekly = pd.read_csv('../../data/Weekly.csv')\n",
    "weekly2 = pd.get_dummies(weekly, drop_first=True)\n",
    "\n",
    "X = weekly[['Lag1', 'Lag2']].values\n",
    "y = weekly['Direction']\n",
    "\n",
    "logit = LogisticRegression()\n",
    "logit.fit(X, y)\n",
    "print('Intercept: {}\\nCoefficients: {}'.format(logit.intercept_, logit.coef_))"
   ]
  },
  {
   "cell_type": "markdown",
   "metadata": {},
   "source": [
    "**7 (b)**:"
   ]
  },
  {
   "cell_type": "code",
   "execution_count": 136,
   "metadata": {},
   "outputs": [
    {
     "name": "stdout",
     "output_type": "stream",
     "text": [
      "Predicted: Up\n",
      "Actual: Down\n"
     ]
    }
   ],
   "source": [
    "index = list(range(len(weekly2)))\n",
    "\n",
    "X_train, X_test = X[index[1:]], X[index[0]]\n",
    "y_train, y_test = y[index[1:]], y[index[0]]\n",
    "\n",
    "logit.fit(X_train, y_train)"
   ]
  },
  {
   "cell_type": "markdown",
   "metadata": {},
   "source": [
    "**7 (c)**:"
   ]
  },
  {
   "cell_type": "code",
   "execution_count": 137,
   "metadata": {},
   "outputs": [
    {
     "name": "stdout",
     "output_type": "stream",
     "text": [
      "Predicted: Up\n",
      "Actual: Down\n"
     ]
    }
   ],
   "source": [
    "y_pred = logit.predict(X_test.reshape(1, -1))\n",
    "\n",
    "print('Predicted: {}\\nActual: {}'.format(y_pred[0], y_test))"
   ]
  },
  {
   "cell_type": "code",
   "execution_count": null,
   "metadata": {
    "collapsed": true
   },
   "outputs": [],
   "source": []
  }
 ],
 "metadata": {
  "kernelspec": {
   "display_name": "Python [default]",
   "language": "python",
   "name": "python3"
  },
  "language_info": {
   "codemirror_mode": {
    "name": "ipython",
    "version": 3
   },
   "file_extension": ".py",
   "mimetype": "text/x-python",
   "name": "python",
   "nbconvert_exporter": "python",
   "pygments_lexer": "ipython3",
   "version": "3.5.3"
  }
 },
 "nbformat": 4,
 "nbformat_minor": 2
}
