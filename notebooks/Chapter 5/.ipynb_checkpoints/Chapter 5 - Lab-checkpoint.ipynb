{
 "cells": [
  {
   "cell_type": "markdown",
   "metadata": {},
   "source": [
    "## The Validation Set Approach"
   ]
  },
  {
   "cell_type": "code",
   "execution_count": 1,
   "metadata": {
    "collapsed": true
   },
   "outputs": [],
   "source": [
    "import pandas as pd\n",
    "import numpy as np\n",
    "import matplotlib.pyplot as plt\n",
    "import seaborn as sns\n",
    "import statsmodels.formula.api as smf\n",
    "\n",
    "\n",
    "%matplotlib inline"
   ]
  },
  {
   "cell_type": "code",
   "execution_count": 2,
   "metadata": {
    "collapsed": false
   },
   "outputs": [],
   "source": [
    "auto = pd.read_csv('../../data/Auto.csv', na_values='?')\n",
    "auto.dropna(inplace=True)\n",
    "auto.reset_index(inplace=True)\n",
    "\n",
    "X = auto['horsepower'].values.reshape(-1, 1)\n",
    "y = auto['mpg'].values"
   ]
  },
  {
   "cell_type": "code",
   "execution_count": 3,
   "metadata": {
    "collapsed": false
   },
   "outputs": [
    {
     "name": "stdout",
     "output_type": "stream",
     "text": [
      "MSE: 24.8021\n"
     ]
    }
   ],
   "source": [
    "from sklearn.linear_model import LinearRegression\n",
    "from sklearn.model_selection import train_test_split\n",
    "from sklearn.metrics import mean_squared_error\n",
    "\n",
    "X_train, X_test, y_train, y_test = train_test_split(X, y, test_size=196, random_state=1)\n",
    "\n",
    "lr = LinearRegression()\n",
    "lr.fit(X_train, y_train)\n",
    "y_pred = lr.predict(X_test)\n",
    "print('MSE: {:.4f}'.format(mean_squared_error(y_test, y_pred)))"
   ]
  },
  {
   "cell_type": "code",
   "execution_count": 4,
   "metadata": {
    "collapsed": false
   },
   "outputs": [
    {
     "name": "stdout",
     "output_type": "stream",
     "text": [
      "MSE: 18.8483\n"
     ]
    }
   ],
   "source": [
    "from sklearn.preprocessing import PolynomialFeatures as poly\n",
    "\n",
    "p2 = poly(2)\n",
    "X_p2 = p2.fit_transform(X)\n",
    "\n",
    "X_train, X_test, y_train, y_test = train_test_split(X_p2, y, test_size=196, random_state=1)\n",
    "\n",
    "lr.fit(X_train, y_train)\n",
    "y_pred = lr.predict(X_test)\n",
    "print('MSE: {:.4f}'.format(mean_squared_error(y_test, y_pred)))"
   ]
  },
  {
   "cell_type": "code",
   "execution_count": 5,
   "metadata": {
    "collapsed": false
   },
   "outputs": [
    {
     "name": "stdout",
     "output_type": "stream",
     "text": [
      "MSE: 18.8051\n"
     ]
    }
   ],
   "source": [
    "p3 = poly(3)\n",
    "X_p3 = p3.fit_transform(X)\n",
    "\n",
    "X_train, X_test, y_train, y_test = train_test_split(X_p3, y, test_size=196, random_state=1)\n",
    "\n",
    "lr.fit(X_train, y_train)\n",
    "y_pred = lr.predict(X_test)\n",
    "print('MSE: {:.4f}'.format(mean_squared_error(y_test, y_pred)))"
   ]
  },
  {
   "cell_type": "markdown",
   "metadata": {},
   "source": [
    "## Leave-One-Out Cross Validation"
   ]
  },
  {
   "cell_type": "code",
   "execution_count": 6,
   "metadata": {
    "collapsed": false
   },
   "outputs": [
    {
     "name": "stdout",
     "output_type": "stream",
     "text": [
      "Intercept: 39.9359\n",
      "Coefficient: -0.1578\n",
      "\n",
      "MSE: 24.2315\n"
     ]
    }
   ],
   "source": [
    "from sklearn.model_selection import LeaveOneOut\n",
    "\n",
    "lr.fit(X, y)\n",
    "print('Intercept: {:.4f}\\nCoefficient: {:.4f}\\n'.format(lr.intercept_, lr.coef_[0]))\n",
    "\n",
    "loo = LeaveOneOut()\n",
    "loo_mse = []\n",
    "for train_index, test_index in loo.split(X):\n",
    "    X_train, X_test = X[train_index], X[test_index]\n",
    "    y_train, y_test = y[train_index], y[test_index]\n",
    "    lr.fit(X_train, y_train)\n",
    "    y_pred = lr.predict(X_test)\n",
    "    loo_mse.append((y_test - y_pred)**2)\n",
    "print('MSE: {:.4f}'.format(np.mean(loo_mse)))"
   ]
  },
  {
   "cell_type": "code",
   "execution_count": 7,
   "metadata": {
    "collapsed": false
   },
   "outputs": [
    {
     "name": "stdout",
     "output_type": "stream",
     "text": [
      "MSE: 24.2315\n",
      "MSE: 19.2482\n",
      "MSE: 19.3350\n",
      "MSE: 19.4244\n",
      "MSE: 19.0332\n"
     ]
    }
   ],
   "source": [
    "deg = np.arange(1, 6)\n",
    "mse = []\n",
    "for d in deg:\n",
    "    p = poly(d)\n",
    "    X_poly = p.fit_transform(X)\n",
    "    loo_mse = []\n",
    "    for train_index, test_index in loo.split(X_poly):\n",
    "        X_train, X_test = X_poly[train_index], X_poly[test_index]\n",
    "        y_train, y_test = y[train_index], y[test_index]\n",
    "        lr.fit(X_train, y_train)\n",
    "        y_pred = lr.predict(X_test)\n",
    "        loo_mse.append((y_test - y_pred)**2)\n",
    "    mse.append(np.mean(loo_mse))\n",
    "for m in mse:\n",
    "    print('MSE: {:.4f}'.format(m))"
   ]
  },
  {
   "cell_type": "markdown",
   "metadata": {},
   "source": [
    "## $k$-Fold Cross-Validation"
   ]
  },
  {
   "cell_type": "code",
   "execution_count": 8,
   "metadata": {
    "collapsed": false
   },
   "outputs": [
    {
     "name": "stdout",
     "output_type": "stream",
     "text": [
      "MSE: 24.0696\n",
      "MSE: 19.2751\n",
      "MSE: 19.2669\n",
      "MSE: 19.2159\n",
      "MSE: 19.0865\n",
      "MSE: 19.9198\n",
      "MSE: 19.0450\n",
      "MSE: 19.0412\n",
      "MSE: 19.0998\n",
      "MSE: 18.8041\n"
     ]
    },
    {
     "name": "stderr",
     "output_type": "stream",
     "text": [
      "C:\\ProgramData\\Anaconda3\\lib\\site-packages\\sklearn\\cross_validation.py:44: DeprecationWarning: This module was deprecated in version 0.18 in favor of the model_selection module into which all the refactored classes and functions are moved. Also note that the interface of the new CV iterators are different from that of this module. This module will be removed in 0.20.\n",
      "  \"This module will be removed in 0.20.\", DeprecationWarning)\n"
     ]
    }
   ],
   "source": [
    "from sklearn.cross_validation import KFold\n",
    "\n",
    "deg = np.arange(1, 11)\n",
    "\n",
    "mse = []\n",
    "for d in deg:\n",
    "    p = poly(d)\n",
    "    X_poly = p.fit_transform(X)\n",
    "    kf = KFold(len(X), n_folds=10, shuffle=True)\n",
    "    kf_mse = []\n",
    "    for train_index, test_index in kf:\n",
    "        X_train, X_test = X_poly[train_index], X_poly[test_index]\n",
    "        y_train, y_test = y[train_index], y[test_index]\n",
    "        lr.fit(X_train, y_train)\n",
    "        y_pred = lr.predict(X_test)\n",
    "        kf_mse.append(((y_test - y_pred)**2).mean())\n",
    "    mse.append(np.mean(kf_mse))\n",
    "    \n",
    "for m in mse:\n",
    "    print('MSE: {:.4f}'.format(m))"
   ]
  },
  {
   "cell_type": "markdown",
   "metadata": {},
   "source": [
    "## The Bootstrap  \n",
    "\n",
    "### Estimating the Accuracy of a Statistic of Interest"
   ]
  },
  {
   "cell_type": "code",
   "execution_count": 9,
   "metadata": {
    "collapsed": false
   },
   "outputs": [],
   "source": [
    "def alpha(X, y, index):\n",
    "    X = X[index]\n",
    "    y = y[index]\n",
    "    return (X.var() - np.cov(X.reshape(-1,), y)[0, 1])/(X.var() + y.var() - 2 * np.cov(X.reshape(-1,), y)[0, 1])"
   ]
  },
  {
   "cell_type": "code",
   "execution_count": 10,
   "metadata": {
    "collapsed": false
   },
   "outputs": [
    {
     "name": "stdout",
     "output_type": "stream",
     "text": [
      "Estimated alpha: 0.5236\n"
     ]
    }
   ],
   "source": [
    "np.random.seed(4)\n",
    "\n",
    "X = np.random.normal(size=100)\n",
    "y = np.random.normal(size=100)\n",
    "\n",
    "index = np.arange(0, 100)\n",
    "\n",
    "print('Estimated alpha: {:.4f}'.format(alpha(X, y, index)))"
   ]
  },
  {
   "cell_type": "code",
   "execution_count": 11,
   "metadata": {
    "collapsed": false
   },
   "outputs": [
    {
     "name": "stdout",
     "output_type": "stream",
     "text": [
      "Alpha estimate: 0.5205\n",
      "Alpha std. error: 0.0462\n"
     ]
    }
   ],
   "source": [
    "from sklearn.utils import resample\n",
    "\n",
    "alpha_est = []\n",
    "for i in range(1000):\n",
    "    X_bs = resample(X)\n",
    "    y_bs = resample(y)\n",
    "    index = np.arange(0, 100)\n",
    "    alpha_est.append(alpha(X_bs, y_bs, index))\n",
    "alpha_est = np.array(alpha_est)\n",
    "print('Alpha estimate: {:.4f}\\nAlpha std. error: {:.4f}'.format(alpha_est.mean(), alpha_est.std()))"
   ]
  },
  {
   "cell_type": "markdown",
   "metadata": {},
   "source": [
    "### Estimating the Accuracy of a Linear Regression Model"
   ]
  },
  {
   "cell_type": "code",
   "execution_count": 89,
   "metadata": {
    "collapsed": true
   },
   "outputs": [],
   "source": [
    "auto = pd.read_csv('../../data/Auto.csv', na_values='?')\n",
    "auto.dropna(inplace=True)\n",
    "auto.reset_index(inplace=True)\n",
    "\n",
    "X = auto['horsepower'].values.reshape(-1, 1)\n",
    "y = auto['mpg'].values"
   ]
  },
  {
   "cell_type": "code",
   "execution_count": 90,
   "metadata": {
    "collapsed": true
   },
   "outputs": [],
   "source": [
    "def boot(X, y, index):\n",
    "    lr = LinearRegression()\n",
    "    lr.fit(X[index], y[index])\n",
    "    return (lr.intercept_, lr.coef_)"
   ]
  },
  {
   "cell_type": "code",
   "execution_count": 91,
   "metadata": {
    "collapsed": false
   },
   "outputs": [
    {
     "name": "stdout",
     "output_type": "stream",
     "text": [
      "Intercept: 39.9359\n",
      "Coefficient: -0.1578\n"
     ]
    }
   ],
   "source": [
    "inter, coef = boot(X, y, np.arange(0, len(X)))\n",
    "print('Intercept: {:.4f}\\nCoefficient: {:.4f}'.format(inter, coef[0]))"
   ]
  },
  {
   "cell_type": "code",
   "execution_count": 92,
   "metadata": {
    "collapsed": false
   },
   "outputs": [
    {
     "name": "stdout",
     "output_type": "stream",
     "text": [
      "Intercept: 40.4804\n",
      "Coefficient: -0.1616\n"
     ]
    }
   ],
   "source": [
    "inter, coef = boot(resample(X, random_state=0), \n",
    "                   resample(y, random_state=0), \n",
    "                   np.arange(0, len(X)))\n",
    "print('Intercept: {:.4f}\\nCoefficient: {:.4f}'.format(inter, coef[0]))"
   ]
  },
  {
   "cell_type": "code",
   "execution_count": 93,
   "metadata": {
    "collapsed": false
   },
   "outputs": [
    {
     "name": "stdout",
     "output_type": "stream",
     "text": [
      "Intercept: 39.6585\n",
      "Coefficient: -0.1559\n"
     ]
    }
   ],
   "source": [
    "inter, coef = boot(resample(X, random_state=1), \n",
    "                   resample(y, random_state=1), \n",
    "                   np.arange(0, len(X)))\n",
    "print('Intercept: {:.4f}\\nCoefficient: {:.4f}'.format(inter, coef[0]))"
   ]
  },
  {
   "cell_type": "code",
   "execution_count": 94,
   "metadata": {
    "collapsed": false
   },
   "outputs": [
    {
     "name": "stdout",
     "output_type": "stream",
     "text": [
      "Intercept estimate: 39.9485\n",
      "Intercept std. error: 0.8447\n",
      "Coefficient estimate: -0.1582\n",
      "Coefficient std. error: 0.0072\n"
     ]
    }
   ],
   "source": [
    "inter = []\n",
    "coef = []\n",
    "for i in range(1000):\n",
    "    rs = np.random.randint(500)\n",
    "    inter_tmp, coef_tmp = boot(resample(X, random_state=rs), \n",
    "                               resample(y, random_state=rs), \n",
    "                               np.arange(0, len(X)))\n",
    "    inter.append(inter_tmp)\n",
    "    coef.append(coef_tmp)\n",
    "inter = np.array(inter)\n",
    "coef = np.array(coef)\n",
    "print('Intercept estimate: {:.4f}\\nIntercept std. error: {:.4f}' \\\n",
    "     .format(inter.mean(), inter.std()))\n",
    "print('Coefficient estimate: {:.4f}\\nCoefficient std. error: {:.4f}' \\\n",
    "     .format(coef.mean(), coef.std()))"
   ]
  },
  {
   "cell_type": "code",
   "execution_count": 95,
   "metadata": {
    "collapsed": false
   },
   "outputs": [
    {
     "data": {
      "text/html": [
       "<table class=\"simpletable\">\n",
       "<tr>\n",
       "       <td></td>         <th>coef</th>     <th>std err</th>      <th>t</th>      <th>P>|t|</th>  <th>[0.025</th>    <th>0.975]</th>  \n",
       "</tr>\n",
       "<tr>\n",
       "  <th>Intercept</th>  <td>   39.9359</td> <td>    0.717</td> <td>   55.660</td> <td> 0.000</td> <td>   38.525</td> <td>   41.347</td>\n",
       "</tr>\n",
       "<tr>\n",
       "  <th>horsepower</th> <td>   -0.1578</td> <td>    0.006</td> <td>  -24.489</td> <td> 0.000</td> <td>   -0.171</td> <td>   -0.145</td>\n",
       "</tr>\n",
       "</table>"
      ],
      "text/plain": [
       "<class 'statsmodels.iolib.table.SimpleTable'>"
      ]
     },
     "execution_count": 95,
     "metadata": {},
     "output_type": "execute_result"
    }
   ],
   "source": [
    "smf.ols('mpg ~ horsepower', auto).fit().summary().tables[1]"
   ]
  },
  {
   "cell_type": "code",
   "execution_count": 96,
   "metadata": {
    "collapsed": false
   },
   "outputs": [
    {
     "name": "stdout",
     "output_type": "stream",
     "text": [
      "Intercept estimate: 56.9001\n",
      "Coefficient 1: -0.4662\n",
      "Coefficient 2: 0.0012\n"
     ]
    }
   ],
   "source": [
    "p = poly(2)\n",
    "X_poly = p.fit_transform(X)\n",
    "inter, coef = boot(X_poly, y, np.arange(0, len(X_poly)))\n",
    "print('Intercept estimate: {:.4f}'.format(inter))\n",
    "for i in range(len(coef)):\n",
    "    if i == 0:\n",
    "        continue\n",
    "    else:\n",
    "        print('Coefficient {}: {:.4f}'.format(i, coef[i]))"
   ]
  },
  {
   "cell_type": "code",
   "execution_count": 105,
   "metadata": {
    "collapsed": false
   },
   "outputs": [
    {
     "name": "stdout",
     "output_type": "stream",
     "text": [
      "Intercept estimate: 56.9558\n",
      "Intercept std. error: 2.0893\n",
      "\n",
      "Coefficient 1 estimate: -0.4671\n",
      "Coefficient 1 std. error: 0.0332\n",
      "\n",
      "Coefficient 2 estimate: 0.0012\n",
      "Coefficient 2 std. error: 0.0001\n",
      "\n"
     ]
    }
   ],
   "source": [
    "p = poly(2)\n",
    "X_poly = p.fit_transform(X)\n",
    "\n",
    "inter = []\n",
    "coef = []\n",
    "for i in range(1000):\n",
    "    rs = np.random.randint(10000)\n",
    "    inter_tmp, coef_tmp = boot(resample(X_poly, random_state=rs), \n",
    "                               resample(y, random_state=rs), \n",
    "                               np.arange(0, len(X_poly)))\n",
    "    inter.append(inter_tmp)\n",
    "    coef.append(coef_tmp)\n",
    "inter = np.array(inter)\n",
    "coef = np.array(coef)\n",
    "print('Intercept estimate: {:.4f}\\nIntercept std. error: {:.4f}\\n' \\\n",
    "     .format(inter.mean(), inter.std()))\n",
    "for i in range(3):\n",
    "    if i == 0:\n",
    "        continue\n",
    "    else:\n",
    "        print('Coefficient {} estimate: {:.4f}'.format(i, coef[:, i].mean()))\n",
    "        print('Coefficient {} std. error: {:.4f}\\n'.format(i, coef[:, i].std()))"
   ]
  },
  {
   "cell_type": "code",
   "execution_count": 106,
   "metadata": {
    "collapsed": false
   },
   "outputs": [
    {
     "data": {
      "text/html": [
       "<table class=\"simpletable\">\n",
       "<tr>\n",
       "           <td></td>             <th>coef</th>     <th>std err</th>      <th>t</th>      <th>P>|t|</th>  <th>[0.025</th>    <th>0.975]</th>  \n",
       "</tr>\n",
       "<tr>\n",
       "  <th>Intercept</th>          <td>   56.9001</td> <td>    1.800</td> <td>   31.604</td> <td> 0.000</td> <td>   53.360</td> <td>   60.440</td>\n",
       "</tr>\n",
       "<tr>\n",
       "  <th>horsepower</th>         <td>   -0.4662</td> <td>    0.031</td> <td>  -14.978</td> <td> 0.000</td> <td>   -0.527</td> <td>   -0.405</td>\n",
       "</tr>\n",
       "<tr>\n",
       "  <th>I(horsepower ** 2)</th> <td>    0.0012</td> <td>    0.000</td> <td>   10.080</td> <td> 0.000</td> <td>    0.001</td> <td>    0.001</td>\n",
       "</tr>\n",
       "</table>"
      ],
      "text/plain": [
       "<class 'statsmodels.iolib.table.SimpleTable'>"
      ]
     },
     "execution_count": 106,
     "metadata": {},
     "output_type": "execute_result"
    }
   ],
   "source": [
    "smf.ols('mpg ~ horsepower + I(horsepower**2)', auto).fit().summary().tables[1]"
   ]
  },
  {
   "cell_type": "code",
   "execution_count": null,
   "metadata": {
    "collapsed": true
   },
   "outputs": [],
   "source": []
  }
 ],
 "metadata": {
  "kernelspec": {
   "display_name": "Python 3",
   "language": "python",
   "name": "python3"
  },
  "language_info": {
   "codemirror_mode": {
    "name": "ipython",
    "version": 3
   },
   "file_extension": ".py",
   "mimetype": "text/x-python",
   "name": "python",
   "nbconvert_exporter": "python",
   "pygments_lexer": "ipython3",
   "version": "3.6.0"
  }
 },
 "nbformat": 4,
 "nbformat_minor": 2
}
