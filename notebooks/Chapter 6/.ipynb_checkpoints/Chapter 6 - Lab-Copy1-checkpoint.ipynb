{
 "cells": [
  {
   "cell_type": "markdown",
   "metadata": {},
   "source": [
    "# Lab 1: Subset Selection Methods"
   ]
  },
  {
   "cell_type": "markdown",
   "metadata": {},
   "source": [
    "## Best Subset Selection"
   ]
  },
  {
   "cell_type": "code",
   "execution_count": 1,
   "metadata": {
    "collapsed": true
   },
   "outputs": [],
   "source": [
    "import pandas as pd\n",
    "import numpy as np\n",
    "import matplotlib.pyplot as plt\n",
    "import seaborn as sns\n",
    "\n",
    "%matplotlib inline"
   ]
  },
  {
   "cell_type": "code",
   "execution_count": 2,
   "metadata": {
    "collapsed": false
   },
   "outputs": [
    {
     "name": "stdout",
     "output_type": "stream",
     "text": [
      "(263, 20)\n",
      "AtBat          0\n",
      "Hits           0\n",
      "HmRun          0\n",
      "Runs           0\n",
      "RBI            0\n",
      "Walks          0\n",
      "Years          0\n",
      "CAtBat         0\n",
      "CHits          0\n",
      "CHmRun         0\n",
      "CRuns          0\n",
      "CRBI           0\n",
      "CWalks         0\n",
      "PutOuts        0\n",
      "Assists        0\n",
      "Errors         0\n",
      "Salary         0\n",
      "League_N       0\n",
      "Division_W     0\n",
      "NewLeague_N    0\n",
      "dtype: int64\n"
     ]
    }
   ],
   "source": [
    "hitters = pd.read_csv('../../data/Hitters.csv', index_col=0, na_values='NA').dropna()\n",
    "hitters = pd.get_dummies(hitters, drop_first=True)\n",
    "print(hitters.shape)\n",
    "print(hitters.isnull().sum())"
   ]
  },
  {
   "cell_type": "code",
   "execution_count": 3,
   "metadata": {
    "collapsed": false
   },
   "outputs": [
    {
     "name": "stderr",
     "output_type": "stream",
     "text": [
      "C:\\ProgramData\\Anaconda3\\lib\\site-packages\\statsmodels\\compat\\pandas.py:56: FutureWarning: The pandas.core.datetools module is deprecated and will be removed in a future version. Please use the pandas.tseries module instead.\n",
      "  from pandas.core import datetools\n"
     ]
    }
   ],
   "source": [
    "import itertools\n",
    "import statsmodels.api as sm\n",
    "import time\n",
    "\n",
    "def processSubset(feature_set):\n",
    "    model = sm.OLS(y, X[list(feature_set)])\n",
    "    regr = model.fit()\n",
    "    RSS = ((regr.predict(X[list(feature_set)]) - y) ** 2).sum()\n",
    "    return {'model': regr, 'RSS': RSS}\n",
    "\n",
    "def getBest(k):\n",
    "    tic = time.time()\n",
    "    results = []\n",
    "    \n",
    "    for combo in itertools.combinations(X.columns, k):\n",
    "        results.append(processSubset(combo))\n",
    "        \n",
    "    models = pd.DataFrame(results)\n",
    "    \n",
    "    best_model = models.loc[models['RSS'].argmin()]\n",
    "    \n",
    "    toc = time.time()\n",
    "    print('Processed {} models on {} predictors in {} seconds' \\\n",
    "         .format(models.shape[0], k, toc-tic))\n",
    "    \n",
    "    return best_model"
   ]
  },
  {
   "cell_type": "code",
   "execution_count": 5,
   "metadata": {
    "collapsed": false
   },
   "outputs": [
    {
     "name": "stdout",
     "output_type": "stream",
     "text": [
      "Processed 19 models on 1 predictors in 0.04100227355957031 seconds\n",
      "Processed 171 models on 2 predictors in 0.23801350593566895 seconds\n",
      "Processed 969 models on 3 predictors in 1.4160809516906738 seconds\n",
      "Processed 3876 models on 4 predictors in 5.684325218200684 seconds\n",
      "Processed 11628 models on 5 predictors in 17.600006580352783 seconds\n",
      "Processed 27132 models on 6 predictors in 42.40542531013489 seconds\n",
      "Processed 50388 models on 7 predictors in 80.98663210868835 seconds\n",
      "Processed 75582 models on 8 predictors in 125.35316967964172 seconds\n",
      "Processed 92378 models on 9 predictors in 157.44600558280945 seconds\n",
      "Processed 92378 models on 10 predictors in 160.36617255210876 seconds\n",
      "Processed 75582 models on 11 predictors in 140.74605011940002 seconds\n",
      "Processed 50388 models on 12 predictors in 99.10566878318787 seconds\n",
      "Processed 27132 models on 13 predictors in 55.27816152572632 seconds\n",
      "Processed 11628 models on 14 predictors in 23.76435899734497 seconds\n",
      "Processed 3876 models on 15 predictors in 7.865449666976929 seconds\n",
      "Processed 969 models on 16 predictors in 1.9981143474578857 seconds\n",
      "Processed 171 models on 17 predictors in 0.35502028465270996 seconds\n",
      "Processed 19 models on 18 predictors in 0.04200243949890137 seconds\n",
      "Processed 1 models on 19 predictors in 0.003000020980834961 seconds\n",
      "Total elapsed time: 920.8406691551208 seconds\n"
     ]
    }
   ],
   "source": [
    "X = hitters[hitters.columns.drop('Salary')]\n",
    "y = hitters['Salary']\n",
    "\n",
    "bss_models = pd.DataFrame(columns=['RSS', 'model'])\n",
    "\n",
    "#n = 8 #This takes about 5 minutes on my computer\n",
    "n = 20 #This takes about 15 minutes on my computer\n",
    "\n",
    "tic = time.time()\n",
    "for i in range(1, n):\n",
    "    bss_models.loc[i] = getBest(i)\n",
    "    \n",
    "toc = time.time()\n",
    "print('Total elapsed time: {} seconds'.format(toc-tic))"
   ]
  },
  {
   "cell_type": "code",
   "execution_count": 6,
   "metadata": {
    "collapsed": false,
    "scrolled": true
   },
   "outputs": [
    {
     "name": "stdout",
     "output_type": "stream",
     "text": [
      "Best 1 variables model: RSS: 4.321393e+07\n",
      "==============================================================================\n",
      "                 coef    std err          t      P>|t|      [0.025      0.975]\n",
      "------------------------------------------------------------------------------\n",
      "Hits           4.8833      0.214     22.787      0.000       4.461       5.305\n",
      "==============================================================================\n",
      "\n",
      "Best 2 variables model: RSS: 3.073305e+07\n",
      "==============================================================================\n",
      "                 coef    std err          t      P>|t|      [0.025      0.975]\n",
      "------------------------------------------------------------------------------\n",
      "Hits           2.9538      0.261     11.335      0.000       2.441       3.467\n",
      "CRBI           0.6788      0.066     10.295      0.000       0.549       0.809\n",
      "==============================================================================\n",
      "\n",
      "Best 3 variables model: RSS: 2.941071e+07\n",
      "==============================================================================\n",
      "                 coef    std err          t      P>|t|      [0.025      0.975]\n",
      "------------------------------------------------------------------------------\n",
      "Hits           3.4057      0.288     11.842      0.000       2.839       3.972\n",
      "CRBI           0.6964      0.065     10.742      0.000       0.569       0.824\n",
      "Division_W  -129.1604     37.777     -3.419      0.001    -203.548     -54.773\n",
      "==============================================================================\n",
      "\n",
      "Best 4 variables model: RSS: 2.797678e+07\n",
      "==============================================================================\n",
      "                 coef    std err          t      P>|t|      [0.025      0.975]\n",
      "------------------------------------------------------------------------------\n",
      "Hits           2.7578      0.333      8.293      0.000       2.103       3.413\n",
      "CRBI           0.6844      0.063     10.789      0.000       0.559       0.809\n",
      "PutOuts        0.2755      0.076      3.643      0.000       0.127       0.424\n",
      "Division_W  -135.9724     36.963     -3.679      0.000    -208.758     -63.187\n",
      "==============================================================================\n",
      "\n",
      "Best 5 variables model: RSS: 2.718780e+07\n",
      "==============================================================================\n",
      "                 coef    std err          t      P>|t|      [0.025      0.975]\n",
      "------------------------------------------------------------------------------\n",
      "AtBat         -1.9281      0.463     -4.166      0.000      -2.839      -1.017\n",
      "Hits           7.9757      1.596      4.998      0.000       4.833      11.118\n",
      "Walks          3.9129      1.226      3.191      0.002       1.498       6.328\n",
      "CRBI           0.6453      0.065      9.961      0.000       0.518       0.773\n",
      "PutOuts        0.2664      0.076      3.517      0.001       0.117       0.416\n",
      "==============================================================================\n",
      "\n",
      "Best 6 variables model: RSS: 2.639772e+07\n",
      "==============================================================================\n",
      "                 coef    std err          t      P>|t|      [0.025      0.975]\n",
      "------------------------------------------------------------------------------\n",
      "AtBat         -1.5488      0.477     -3.248      0.001      -2.488      -0.610\n",
      "Hits           7.0190      1.613      4.352      0.000       3.843      10.195\n",
      "Walks          3.7513      1.212      3.095      0.002       1.364       6.138\n",
      "CRBI           0.6544      0.064     10.218      0.000       0.528       0.781\n",
      "PutOuts        0.2703      0.075      3.614      0.000       0.123       0.418\n",
      "Division_W  -104.4513     37.661     -2.773      0.006    -178.615     -30.287\n",
      "==============================================================================\n",
      "\n",
      "Best 7 variables model: RSS: 2.606413e+07\n",
      "==============================================================================\n",
      "                 coef    std err          t      P>|t|      [0.025      0.975]\n",
      "------------------------------------------------------------------------------\n",
      "Hits           1.6800      0.490      3.426      0.001       0.714       2.646\n",
      "Walks          3.4000      1.196      2.843      0.005       1.045       5.755\n",
      "CAtBat        -0.3288      0.090     -3.665      0.000      -0.506      -0.152\n",
      "CHits          1.3470      0.312      4.316      0.000       0.732       1.962\n",
      "CHmRun         1.3494      0.415      3.248      0.001       0.531       2.167\n",
      "PutOuts        0.2482      0.074      3.336      0.001       0.102       0.395\n",
      "Division_W  -111.9438     36.786     -3.043      0.003    -184.386     -39.502\n",
      "==============================================================================\n",
      "\n",
      "Best 8 variables model: RSS: 2.548030e+07\n",
      "==============================================================================\n",
      "                 coef    std err          t      P>|t|      [0.025      0.975]\n",
      "------------------------------------------------------------------------------\n",
      "AtBat         -1.6178      0.471     -3.435      0.001      -2.545      -0.690\n",
      "Hits           6.1783      1.616      3.823      0.000       2.996       9.360\n",
      "Walks          6.2153      1.524      4.079      0.000       3.215       9.216\n",
      "CRuns          0.6867      0.250      2.751      0.006       0.195       1.178\n",
      "CRBI           0.5059      0.189      2.676      0.008       0.134       0.878\n",
      "CWalks        -0.7303      0.262     -2.791      0.006      -1.246      -0.215\n",
      "PutOuts        0.2845      0.074      3.821      0.000       0.138       0.431\n",
      "Division_W  -100.1196     37.187     -2.692      0.008    -173.352     -26.887\n",
      "==============================================================================\n",
      "\n",
      "Best 9 variables model: RSS: 2.519756e+07\n",
      "==============================================================================\n",
      "                 coef    std err          t      P>|t|      [0.025      0.975]\n",
      "------------------------------------------------------------------------------\n",
      "AtBat         -1.8428      0.477     -3.861      0.000      -2.783      -0.903\n",
      "Hits           6.9364      1.631      4.253      0.000       3.725      10.148\n",
      "Walks          5.7704      1.513      3.814      0.000       2.791       8.750\n",
      "CHmRun         1.2498      0.438      2.856      0.005       0.388       2.111\n",
      "CRuns          0.9368      0.205      4.568      0.000       0.533       1.341\n",
      "CWalks        -0.7765      0.262     -2.963      0.003      -1.293      -0.260\n",
      "PutOuts        0.2853      0.074      3.848      0.000       0.139       0.431\n",
      "League_N      68.2179     37.135      1.837      0.067      -4.914     141.350\n",
      "Division_W  -100.0739     37.277     -2.685      0.008    -173.486     -26.662\n",
      "==============================================================================\n",
      "\n",
      "Best 10 variables model: RSS: 2.493515e+07\n",
      "==============================================================================\n",
      "                 coef    std err          t      P>|t|      [0.025      0.975]\n",
      "------------------------------------------------------------------------------\n",
      "AtBat         -1.5602      0.482     -3.240      0.001      -2.508      -0.612\n",
      "Hits           6.1618      1.621      3.800      0.000       2.969       9.355\n",
      "Walks          5.3009      1.595      3.323      0.001       2.159       8.443\n",
      "CAtBat        -0.0977      0.053     -1.828      0.069      -0.203       0.008\n",
      "CRuns          1.2216      0.382      3.194      0.002       0.468       1.975\n",
      "CRBI           0.6455      0.201      3.214      0.001       0.250       1.041\n",
      "CWalks        -0.7111      0.261     -2.723      0.007      -1.226      -0.197\n",
      "PutOuts        0.2734      0.074      3.675      0.000       0.127       0.420\n",
      "League_N      71.2900     37.717      1.890      0.060      -2.988     145.568\n",
      "Division_W   -94.9499     37.774     -2.514      0.013    -169.342     -20.558\n",
      "==============================================================================\n",
      "\n",
      "Best 11 variables model: RSS: 2.473910e+07\n",
      "==============================================================================\n",
      "                 coef    std err          t      P>|t|      [0.025      0.975]\n",
      "------------------------------------------------------------------------------\n",
      "AtBat         -1.6993      0.491     -3.464      0.001      -2.665      -0.733\n",
      "Hits           6.2956      1.621      3.884      0.000       3.103       9.488\n",
      "Walks          5.4777      1.597      3.430      0.001       2.332       8.623\n",
      "CAtBat        -0.1186      0.055     -2.143      0.033      -0.228      -0.010\n",
      "CRuns          1.3268      0.389      3.412      0.001       0.561       2.093\n",
      "CRBI           0.7272      0.209      3.485      0.001       0.316       1.138\n",
      "CWalks        -0.7450      0.262     -2.846      0.005      -1.261      -0.229\n",
      "PutOuts        0.2900      0.075      3.858      0.000       0.142       0.438\n",
      "Assists        0.2219      0.157      1.413      0.159      -0.087       0.531\n",
      "League_N      69.5765     37.662      1.847      0.066      -4.596     143.749\n",
      "Division_W   -90.2596     37.846     -2.385      0.018    -164.794     -15.725\n",
      "==============================================================================\n",
      "\n",
      "Best 12 variables model: RSS: 2.466336e+07\n",
      "==============================================================================\n",
      "                 coef    std err          t      P>|t|      [0.025      0.975]\n",
      "------------------------------------------------------------------------------\n",
      "AtBat         -1.7745      0.498     -3.562      0.000      -2.756      -0.793\n",
      "Hits           6.4448      1.631      3.952      0.000       3.233       9.656\n",
      "Walks          5.5243      1.599      3.455      0.001       2.376       8.673\n",
      "Years          8.5686      9.760      0.878      0.381     -10.653      27.790\n",
      "CAtBat        -0.1536      0.068     -2.251      0.025      -0.288      -0.019\n",
      "CRuns          1.4638      0.419      3.492      0.001       0.638       2.289\n",
      "CRBI           0.7476      0.210      3.560      0.000       0.334       1.161\n",
      "CWalks        -0.7910      0.267     -2.962      0.003      -1.317      -0.265\n",
      "PutOuts        0.2936      0.075      3.898      0.000       0.145       0.442\n",
      "Assists        0.2494      0.160      1.557      0.121      -0.066       0.565\n",
      "League_N      66.5879     37.833      1.760      0.080      -7.922     141.098\n",
      "Division_W   -93.5673     38.050     -2.459      0.015    -168.506     -18.629\n",
      "==============================================================================\n",
      "\n",
      "Best 13 variables model: RSS: 2.460735e+07\n",
      "==============================================================================\n",
      "                 coef    std err          t      P>|t|      [0.025      0.975]\n",
      "------------------------------------------------------------------------------\n",
      "AtBat         -1.7029      0.508     -3.355      0.001      -2.703      -0.703\n",
      "Hits           7.0393      1.812      3.884      0.000       3.470      10.609\n",
      "Runs          -1.8277      2.423     -0.754      0.451      -6.600       2.944\n",
      "Walks          5.9741      1.708      3.499      0.001       2.611       9.337\n",
      "Years          8.6074      9.768      0.881      0.379     -10.631      27.846\n",
      "CAtBat        -0.1675      0.071     -2.368      0.019      -0.307      -0.028\n",
      "CRuns          1.5700      0.443      3.548      0.000       0.698       2.442\n",
      "CRBI           0.7400      0.210      3.517      0.001       0.326       1.155\n",
      "CWalks        -0.8038      0.268     -3.001      0.003      -1.331      -0.276\n",
      "PutOuts        0.2883      0.076      3.809      0.000       0.139       0.437\n",
      "Assists        0.2237      0.164      1.365      0.173      -0.099       0.547\n",
      "League_N      62.4336     38.264      1.632      0.104     -12.926     137.794\n",
      "Division_W   -95.1427     38.140     -2.495      0.013    -170.260     -20.026\n",
      "==============================================================================\n",
      "\n",
      "Best 14 variables model: RSS: 2.457927e+07\n",
      "==============================================================================\n",
      "                 coef    std err          t      P>|t|      [0.025      0.975]\n",
      "------------------------------------------------------------------------------\n",
      "AtBat         -1.7667      0.522     -3.383      0.001      -2.795      -0.738\n",
      "Hits           7.2679      1.865      3.897      0.000       3.595      10.941\n",
      "HmRun          1.9403      3.638      0.533      0.594      -5.224       9.105\n",
      "Runs          -2.3688      2.630     -0.901      0.369      -7.549       2.811\n",
      "Walks          6.1351      1.737      3.533      0.000       2.715       9.555\n",
      "Years          8.6280      9.782      0.882      0.379     -10.639      27.895\n",
      "CAtBat        -0.1642      0.071     -2.309      0.022      -0.304      -0.024\n",
      "CRuns          1.6027      0.447      3.583      0.000       0.722       2.484\n",
      "CRBI           0.6828      0.236      2.888      0.004       0.217       1.149\n",
      "CWalks        -0.8164      0.269     -3.032      0.003      -1.347      -0.286\n",
      "PutOuts        0.2862      0.076      3.770      0.000       0.137       0.436\n",
      "Assists        0.2472      0.170      1.455      0.147      -0.087       0.582\n",
      "League_N      64.3152     38.480      1.671      0.096     -11.474     140.104\n",
      "Division_W   -95.3836     38.198     -2.497      0.013    -170.615     -20.152\n",
      "==============================================================================\n",
      "\n",
      "Best 15 variables model: RSS: 2.455911e+07\n",
      "==============================================================================\n",
      "                 coef    std err          t      P>|t|      [0.025      0.975]\n",
      "------------------------------------------------------------------------------\n",
      "AtBat         -1.7274      0.530     -3.258      0.001      -2.772      -0.683\n",
      "Hits           7.1769      1.879      3.820      0.000       3.477      10.877\n",
      "HmRun          2.0873      3.658      0.571      0.569      -5.118       9.292\n",
      "Runs          -2.3546      2.634     -0.894      0.372      -7.543       2.834\n",
      "Walks          6.0952      1.742      3.500      0.001       2.665       9.525\n",
      "Years          8.7721      9.803      0.895      0.372     -10.536      28.080\n",
      "CAtBat        -0.1640      0.071     -2.302      0.022      -0.304      -0.024\n",
      "CRuns          1.5992      0.448      3.568      0.000       0.717       2.482\n",
      "CRBI           0.6817      0.237      2.878      0.004       0.215       1.148\n",
      "CWalks        -0.8188      0.270     -3.036      0.003      -1.350      -0.288\n",
      "PutOuts        0.2898      0.076      3.791      0.000       0.139       0.440\n",
      "Assists        0.3066      0.215      1.425      0.155      -0.117       0.731\n",
      "Errors        -1.9259      4.269     -0.451      0.652     -10.333       6.481\n",
      "League_N      67.2731     39.096      1.721      0.087      -9.729     144.275\n",
      "Division_W   -94.5176     38.307     -2.467      0.014    -169.966     -19.069\n",
      "==============================================================================\n",
      "\n",
      "Best 16 variables model: RSS: 2.454517e+07\n",
      "==============================================================================\n",
      "                 coef    std err          t      P>|t|      [0.025      0.975]\n",
      "------------------------------------------------------------------------------\n",
      "AtBat         -1.7077      0.534     -3.199      0.002      -2.759      -0.656\n",
      "Hits           7.4243      1.995      3.722      0.000       3.496      11.353\n",
      "HmRun          3.6177      5.488      0.659      0.510      -7.191      14.427\n",
      "Runs          -2.5481      2.689     -0.948      0.344      -7.845       2.748\n",
      "RBI           -0.9256      2.471     -0.375      0.708      -5.792       3.941\n",
      "Walks          6.2226      1.777      3.501      0.001       2.722       9.723\n",
      "Years          8.8895      9.825      0.905      0.366     -10.463      28.242\n",
      "CAtBat        -0.1649      0.071     -2.310      0.022      -0.305      -0.024\n",
      "CRuns          1.5881      0.450      3.530      0.000       0.702       2.474\n",
      "CRBI           0.7108      0.250      2.847      0.005       0.219       1.203\n",
      "CWalks        -0.8307      0.272     -3.053      0.003      -1.367      -0.295\n",
      "PutOuts        0.2896      0.077      3.782      0.000       0.139       0.440\n",
      "Assists        0.3065      0.216      1.422      0.156      -0.118       0.731\n",
      "Errors        -1.8267      4.284     -0.426      0.670     -10.265       6.611\n",
      "League_N      67.1638     39.165      1.715      0.088      -9.976     144.303\n",
      "Division_W   -96.7177     38.820     -2.491      0.013    -173.179     -20.257\n",
      "==============================================================================\n",
      "\n",
      "Best 17 variables model: RSS: 2.453284e+07\n",
      "==============================================================================\n",
      "                 coef    std err          t      P>|t|      [0.025      0.975]\n",
      "------------------------------------------------------------------------------\n",
      "AtBat         -1.6165      0.594     -2.720      0.007      -2.787      -0.446\n",
      "Hits           7.0221      2.302      3.050      0.003       2.487      11.557\n",
      "HmRun          3.8634      5.542      0.697      0.486      -7.052      14.779\n",
      "Runs          -2.2599      2.816     -0.803      0.423      -7.806       3.286\n",
      "RBI           -1.0024      2.485     -0.403      0.687      -5.897       3.892\n",
      "Walks          6.1056      1.811      3.371      0.001       2.538       9.673\n",
      "Years          9.6389     10.071      0.957      0.339     -10.197      29.475\n",
      "CAtBat        -0.2033      0.131     -1.557      0.121      -0.461       0.054\n",
      "CHits          0.1715      0.488      0.352      0.725      -0.789       1.132\n",
      "CRuns          1.4691      0.564      2.606      0.010       0.359       2.579\n",
      "CRBI           0.7106      0.250      2.841      0.005       0.218       1.203\n",
      "CWalks        -0.7754      0.315     -2.463      0.014      -1.395      -0.155\n",
      "PutOuts        0.2860      0.077      3.696      0.000       0.134       0.438\n",
      "Assists        0.3172      0.218      1.454      0.147      -0.112       0.747\n",
      "Errors        -1.9863      4.316     -0.460      0.646     -10.487       6.514\n",
      "League_N      66.4330     39.289      1.691      0.092     -10.954     143.820\n",
      "Division_W   -97.3188     38.927     -2.500      0.013    -173.991     -20.646\n",
      "==============================================================================\n",
      "\n",
      "Best 18 variables model: RSS: 2.452326e+07\n",
      "===============================================================================\n",
      "                  coef    std err          t      P>|t|      [0.025      0.975]\n",
      "-------------------------------------------------------------------------------\n",
      "AtBat          -1.5970      0.599     -2.668      0.008      -2.776      -0.418\n",
      "Hits            6.9792      2.311      3.020      0.003       2.428      11.531\n",
      "HmRun           3.8334      5.553      0.690      0.491      -7.104      14.771\n",
      "Runs           -2.2763      2.822     -0.807      0.421      -7.834       3.281\n",
      "RBI            -1.0076      2.490     -0.405      0.686      -5.911       3.896\n",
      "Walks           6.1311      1.817      3.375      0.001       2.553       9.709\n",
      "Years           9.5778     10.091      0.949      0.344     -10.299      29.455\n",
      "CAtBat         -0.2050      0.131     -1.565      0.119      -0.463       0.053\n",
      "CHits           0.1859      0.491      0.379      0.705      -0.781       1.153\n",
      "CRuns           1.4561      0.566      2.571      0.011       0.341       2.572\n",
      "CRBI            0.7075      0.251      2.821      0.005       0.214       1.202\n",
      "CWalks         -0.7756      0.315     -2.459      0.015      -1.397      -0.154\n",
      "PutOuts         0.2860      0.078      3.688      0.000       0.133       0.439\n",
      "Assists         0.3158      0.219      1.445      0.150      -0.115       0.746\n",
      "Errors         -2.0738      4.333     -0.479      0.633     -10.608       6.461\n",
      "League_N       87.3167     78.152      1.117      0.265     -66.619     241.252\n",
      "Division_W    -97.5279     39.004     -2.500      0.013    -174.355     -20.701\n",
      "NewLeague_N   -24.4458     79.032     -0.309      0.757    -180.114     131.222\n",
      "===============================================================================\n",
      "\n",
      "Best 19 variables model: RSS: 2.452220e+07\n",
      "===============================================================================\n",
      "                  coef    std err          t      P>|t|      [0.025      0.975]\n",
      "-------------------------------------------------------------------------------\n",
      "AtBat          -1.5975      0.600     -2.663      0.008      -2.779      -0.416\n",
      "Hits            7.0330      2.374      2.963      0.003       2.357      11.709\n",
      "HmRun           4.1210      6.229      0.662      0.509      -8.148      16.390\n",
      "Runs           -2.3776      2.994     -0.794      0.428      -8.276       3.520\n",
      "RBI            -1.0873      2.613     -0.416      0.678      -6.234       4.059\n",
      "Walks           6.1560      1.836      3.352      0.001       2.539       9.773\n",
      "Years           9.5196     10.128      0.940      0.348     -10.429      29.468\n",
      "CAtBat         -0.2018      0.135     -1.497      0.136      -0.467       0.064\n",
      "CHits           0.1380      0.678      0.204      0.839      -1.197       1.473\n",
      "CHmRun         -0.1669      1.625     -0.103      0.918      -3.367       3.033\n",
      "CRuns           1.5070      0.753      2.001      0.047       0.023       2.991\n",
      "CRBI            0.7742      0.696      1.113      0.267      -0.596       2.144\n",
      "CWalks         -0.7851      0.329     -2.384      0.018      -1.434      -0.137\n",
      "PutOuts         0.2856      0.078      3.673      0.000       0.132       0.439\n",
      "Assists         0.3137      0.220      1.427      0.155      -0.119       0.747\n",
      "Errors         -2.0463      4.350     -0.470      0.638     -10.615       6.522\n",
      "League_N       86.8139     78.463      1.106      0.270     -67.737     241.365\n",
      "Division_W    -97.5160     39.084     -2.495      0.013    -174.500     -20.532\n",
      "NewLeague_N   -23.9133     79.361     -0.301      0.763    -180.234     132.407\n",
      "===============================================================================\n",
      "\n"
     ]
    }
   ],
   "source": [
    "for i in bss_models.index:\n",
    "    print('Best {} variables model: RSS: {:e}'.format(i, bss_models.loc[i]['RSS']))\n",
    "    print('{}\\n'.format(bss_models.loc[i]['model'].summary().tables[1]))"
   ]
  },
  {
   "cell_type": "code",
   "execution_count": 9,
   "metadata": {
    "collapsed": false
   },
   "outputs": [
    {
     "data": {
      "image/png": "[encoded data removed]",
      "text/plain": [
       "<matplotlib.figure.Figure at 0x25af00b8>"
      ]
     },
     "metadata": {},
     "output_type": "display_data"
    }
   ],
   "source": [
    "aic = []\n",
    "bic = []\n",
    "adj_r2 = []\n",
    "\n",
    "for i in bss_models.index:\n",
    "    aic.append(bss_models.loc[i]['model'].aic)\n",
    "    bic.append(bss_models.loc[i]['model'].bic)\n",
    "    adj_r2.append(bss_models.loc[i]['model'].rsquared_adj)\n",
    "    \n",
    "aic = np.array(aic)\n",
    "bic = np.array(bic)\n",
    "adj_r2 = np.array(adj_r2)\n",
    "\n",
    "fig, (ax1, ax2, ax3) = plt.subplots(1, 3, figsize=(12, 4))\n",
    "    \n",
    "ax1.plot(bss_models.index, bss_models['RSS'])\n",
    "ax1.set(xlabel='Number of Variables', ylabel='RSS')\n",
    "\n",
    "ax2.plot(bss_models.index, aic)\n",
    "ax2.plot(bss_models.index, bic)\n",
    "ax2.legend(['AIC', 'BIC'])\n",
    "ax2.set(xlabel='Number of Variables')\n",
    "ax2.scatter(aic.argmin()+1, aic[aic.argmin()], c='r')\n",
    "ax2.scatter(bic.argmin()+1, bic[bic.argmin()], c='r')\n",
    "\n",
    "ax3.plot(bss_models.index, adj_r2)\n",
    "ax3.set(xlabel='Number of Variables', ylabel=r'Adjusted $R^2$')\n",
    "ax3.scatter(adj_r2.argmax()+1, adj_r2[adj_r2.argmax()], c='r')\n",
    "\n",
    "fig.tight_layout()"
   ]
  },
  {
   "cell_type": "markdown",
   "metadata": {},
   "source": [
    "## Forward and Backward Stepwise Selection"
   ]
  },
  {
   "cell_type": "code",
   "execution_count": 22,
   "metadata": {
    "collapsed": false
   },
   "outputs": [],
   "source": [
    "#forward selection\n",
    "\n",
    "unused_vars = X.columns\n",
    "model_vars = []\n",
    "fs_models = {}\n",
    "\n",
    "for i in range(len(unused_vars)):\n",
    "    #reset the minimum RSS each time\n",
    "    min_rss = 1e100\n",
    "    #loop through the available variables\n",
    "    for v in unused_vars:\n",
    "        #fit the model with the previous variables plus the new variable\n",
    "        lr = sm.OLS(y, X[model_vars + [v]]).fit()\n",
    "        #calculate the rss for the model\n",
    "        rss = ((lr.predict(X[model_vars + [v]]) - y) ** 2).sum()\n",
    "        #find which model has the lowest RSS\n",
    "        if rss < min_rss:\n",
    "            min_rss = rss\n",
    "            min_var = v\n",
    "    #add the variable that resulted in the lowest RSS to model_vars (used)\n",
    "    model_vars.append(min_var)\n",
    "    #delete the variable that resulted in the lowest RSS from unused_vars\n",
    "    unused_vars = unused_vars.drop(min_var)\n",
    "    #add the variables, fitted model, and RSS to a dictionary for easy lookup\n",
    "    fs_models[i+1] = [list(model_vars), sm.OLS(y, X[model_vars]).fit(), min_rss]"
   ]
  },
  {
   "cell_type": "code",
   "execution_count": 23,
   "metadata": {
    "collapsed": false
   },
   "outputs": [],
   "source": [
    "#backward selection\n",
    "model_vars = X.columns\n",
    "omitted_vars = []\n",
    "bs_models = {}\n",
    "\n",
    "for i in range(len(model_vars), 0, -1):\n",
    "    rss = ((sm.OLS(y, X[model_vars]).fit().predict(X[model_vars]) - y) ** 2).sum()\n",
    "    bs_models[i] = [list(model_vars), sm.OLS(y, X[model_vars]).fit(), rss]\n",
    "    min_rss = 1e100\n",
    "    if len(model_vars) > 1:\n",
    "        for v in model_vars:\n",
    "            lr = sm.OLS(y, X[model_vars.drop(v)]).fit()\n",
    "            rss = ((lr.predict(X[model_vars.drop(v)]) - y) ** 2).sum()\n",
    "            if rss < min_rss:\n",
    "                min_rss = rss\n",
    "                min_var = v\n",
    "        model_vars = model_vars.drop(v)"
   ]
  },
  {
   "cell_type": "code",
   "execution_count": 49,
   "metadata": {
    "collapsed": false
   },
   "outputs": [
    {
     "name": "stdout",
     "output_type": "stream",
     "text": [
      "7 Variables\n",
      "-----------\n",
      "Best subset selection\n",
      "\tVariables: ['Hits', 'Walks', 'CAtBat', 'CHits', 'CHmRun', 'PutOuts', 'Division_W']\n",
      "\tRSS: 26064130.610340584\n",
      "\n",
      "Forward selection\n",
      "\tVariables: ['Hits', 'CRBI', 'Division_W', 'PutOuts', 'AtBat', 'Walks', 'League_N']\n",
      "\tRSS: 26212278.82362643\n",
      "\n",
      "Backward selection\n",
      "\tVariables: ['AtBat', 'Hits', 'HmRun', 'Runs', 'RBI', 'Walks', 'Years']\n",
      "\tRSS: 31747831.740722436\n",
      "\n"
     ]
    }
   ],
   "source": [
    "ind = 7\n",
    "\n",
    "print('{} Variables\\n-----------'.format(ind))\n",
    "print('Best subset selection\\n\\tVariables: {}\\n\\tRSS: {}\\n' \\\n",
    "      .format(list(bss_models.loc[ind]['model'].params.index), \n",
    "              bss_models.loc[ind]['RSS']))\n",
    "print('Forward selection\\n\\tVariables: {}\\n\\tRSS: {}\\n' \\\n",
    "      .format(fs_models[ind][0], fs_models[ind][2]))\n",
    "print('Backward selection\\n\\tVariables: {}\\n\\tRSS: {}\\n' \\\n",
    "      .format(bs_models[ind][0], bs_models[ind][2]))"
   ]
  },
  {
   "cell_type": "markdown",
   "metadata": {},
   "source": [
    "## Choosing Among Models Using the Validation Set Approach and Cross-Validation"
   ]
  },
  {
   "cell_type": "code",
   "execution_count": 87,
   "metadata": {
    "collapsed": false
   },
   "outputs": [
    {
     "name": "stdout",
     "output_type": "stream",
     "text": [
      "92017.86901772924\n",
      "92017.86901772917\n"
     ]
    }
   ],
   "source": [
    "lr1 = sm.OLS(y, sm.add_constant(X)).fit()\n",
    "y_pred1 = lr1.predict(sm.add_constant(X))\n",
    "print(((y_pred1 - y)**2).mean())\n",
    "\n",
    "lr2 = LinearRegression()\n",
    "lr2.fit(X, y)\n",
    "y_pred2 = lr2.predict(X)\n",
    "print(((y_pred2 - y)**2).mean())"
   ]
  },
  {
   "cell_type": "code",
   "execution_count": 82,
   "metadata": {
    "collapsed": false
   },
   "outputs": [
    {
     "data": {
      "text/plain": [
       "AtBat          -1.597454\n",
       "Hits            7.033003\n",
       "HmRun           4.121030\n",
       "Runs           -2.377622\n",
       "RBI            -1.087339\n",
       "Walks           6.155957\n",
       "Years           9.519555\n",
       "CAtBat         -0.201828\n",
       "CHits           0.138001\n",
       "CHmRun         -0.166934\n",
       "CRuns           1.506992\n",
       "CRBI            0.774167\n",
       "CWalks         -0.785064\n",
       "PutOuts         0.285626\n",
       "Assists         0.313743\n",
       "Errors         -2.046266\n",
       "League_N       86.813853\n",
       "Division_W    -97.516017\n",
       "NewLeague_N   -23.913331\n",
       "dtype: float64"
      ]
     },
     "execution_count": 82,
     "metadata": {},
     "output_type": "execute_result"
    }
   ],
   "source": [
    "lr1.params"
   ]
  },
  {
   "cell_type": "code",
   "execution_count": 83,
   "metadata": {
    "collapsed": false
   },
   "outputs": [
    {
     "data": {
      "text/plain": [
       "array([  -1.9798729 ,    7.50076754,    4.3308829 ,   -2.37620998,\n",
       "         -1.04496196,    6.23128632,   -3.48905426,   -0.17134047,\n",
       "          0.13399096,   -0.17286107,    1.45430494,    0.8077088 ,\n",
       "         -0.81157091,    0.28189251,    0.37106921,   -3.36076048,\n",
       "         62.59942304, -116.84924564,  -24.76232511])"
      ]
     },
     "execution_count": 83,
     "metadata": {},
     "output_type": "execute_result"
    }
   ],
   "source": [
    "lr2.coef_"
   ]
  },
  {
   "cell_type": "code",
   "execution_count": 85,
   "metadata": {
    "collapsed": false
   },
   "outputs": [
    {
     "data": {
      "text/html": [
       "<table class=\"simpletable\">\n",
       "<tr>\n",
       "      <td></td>         <th>coef</th>     <th>std err</th>      <th>t</th>      <th>P>|t|</th>  <th>[0.025</th>    <th>0.975]</th>  \n",
       "</tr>\n",
       "<tr>\n",
       "  <th>Intercept</th> <td>  163.1036</td> <td>   90.779</td> <td>    1.797</td> <td> 0.074</td> <td>  -15.710</td> <td>  341.917</td>\n",
       "</tr>\n",
       "<tr>\n",
       "  <th>X[0]</th>      <td>   -1.9799</td> <td>    0.634</td> <td>   -3.123</td> <td> 0.002</td> <td>   -3.229</td> <td>   -0.731</td>\n",
       "</tr>\n",
       "<tr>\n",
       "  <th>X[1]</th>      <td>    7.5008</td> <td>    2.378</td> <td>    3.155</td> <td> 0.002</td> <td>    2.818</td> <td>   12.184</td>\n",
       "</tr>\n",
       "<tr>\n",
       "  <th>X[2]</th>      <td>    4.3309</td> <td>    6.201</td> <td>    0.698</td> <td> 0.486</td> <td>   -7.885</td> <td>   16.546</td>\n",
       "</tr>\n",
       "<tr>\n",
       "  <th>X[3]</th>      <td>   -2.3762</td> <td>    2.981</td> <td>   -0.797</td> <td> 0.426</td> <td>   -8.248</td> <td>    3.495</td>\n",
       "</tr>\n",
       "<tr>\n",
       "  <th>X[4]</th>      <td>   -1.0450</td> <td>    2.601</td> <td>   -0.402</td> <td> 0.688</td> <td>   -6.168</td> <td>    4.078</td>\n",
       "</tr>\n",
       "<tr>\n",
       "  <th>X[5]</th>      <td>    6.2313</td> <td>    1.829</td> <td>    3.408</td> <td> 0.001</td> <td>    2.630</td> <td>    9.833</td>\n",
       "</tr>\n",
       "<tr>\n",
       "  <th>X[6]</th>      <td>   -3.4891</td> <td>   12.412</td> <td>   -0.281</td> <td> 0.779</td> <td>  -27.938</td> <td>   20.960</td>\n",
       "</tr>\n",
       "<tr>\n",
       "  <th>X[7]</th>      <td>   -0.1713</td> <td>    0.135</td> <td>   -1.267</td> <td> 0.206</td> <td>   -0.438</td> <td>    0.095</td>\n",
       "</tr>\n",
       "<tr>\n",
       "  <th>X[8]</th>      <td>    0.1340</td> <td>    0.675</td> <td>    0.199</td> <td> 0.843</td> <td>   -1.195</td> <td>    1.463</td>\n",
       "</tr>\n",
       "<tr>\n",
       "  <th>X[9]</th>      <td>   -0.1729</td> <td>    1.617</td> <td>   -0.107</td> <td> 0.915</td> <td>   -3.358</td> <td>    3.013</td>\n",
       "</tr>\n",
       "<tr>\n",
       "  <th>X[10]</th>     <td>    1.4543</td> <td>    0.750</td> <td>    1.938</td> <td> 0.054</td> <td>   -0.024</td> <td>    2.933</td>\n",
       "</tr>\n",
       "<tr>\n",
       "  <th>X[11]</th>     <td>    0.8077</td> <td>    0.693</td> <td>    1.166</td> <td> 0.245</td> <td>   -0.557</td> <td>    2.172</td>\n",
       "</tr>\n",
       "<tr>\n",
       "  <th>X[12]</th>     <td>   -0.8116</td> <td>    0.328</td> <td>   -2.474</td> <td> 0.014</td> <td>   -1.458</td> <td>   -0.165</td>\n",
       "</tr>\n",
       "<tr>\n",
       "  <th>X[13]</th>     <td>    0.2819</td> <td>    0.077</td> <td>    3.640</td> <td> 0.000</td> <td>    0.129</td> <td>    0.434</td>\n",
       "</tr>\n",
       "<tr>\n",
       "  <th>X[14]</th>     <td>    0.3711</td> <td>    0.221</td> <td>    1.678</td> <td> 0.095</td> <td>   -0.065</td> <td>    0.807</td>\n",
       "</tr>\n",
       "<tr>\n",
       "  <th>X[15]</th>     <td>   -3.3608</td> <td>    4.392</td> <td>   -0.765</td> <td> 0.445</td> <td>  -12.011</td> <td>    5.290</td>\n",
       "</tr>\n",
       "<tr>\n",
       "  <th>X[16]</th>     <td>   62.5994</td> <td>   79.261</td> <td>    0.790</td> <td> 0.430</td> <td>  -93.528</td> <td>  218.727</td>\n",
       "</tr>\n",
       "<tr>\n",
       "  <th>X[17]</th>     <td> -116.8492</td> <td>   40.367</td> <td>   -2.895</td> <td> 0.004</td> <td> -196.363</td> <td>  -37.335</td>\n",
       "</tr>\n",
       "<tr>\n",
       "  <th>X[18]</th>     <td>  -24.7623</td> <td>   79.003</td> <td>   -0.313</td> <td> 0.754</td> <td> -180.380</td> <td>  130.855</td>\n",
       "</tr>\n",
       "</table>"
      ],
      "text/plain": [
       "<class 'statsmodels.iolib.table.SimpleTable'>"
      ]
     },
     "execution_count": 85,
     "metadata": {},
     "output_type": "execute_result"
    }
   ],
   "source": [
    "import statsmodels.formula.api as smf\n",
    "smf.ols('y ~ X', {'y': y, 'X': X}).fit().summary().tables[1]"
   ]
  },
  {
   "cell_type": "code",
   "execution_count": null,
   "metadata": {
    "collapsed": true
   },
   "outputs": [],
   "source": []
  }
 ],
 "metadata": {
  "kernelspec": {
   "display_name": "Python 3",
   "language": "python",
   "name": "python3"
  },
  "language_info": {
   "codemirror_mode": {
    "name": "ipython",
    "version": 3
   },
   "file_extension": ".py",
   "mimetype": "text/x-python",
   "name": "python",
   "nbconvert_exporter": "python",
   "pygments_lexer": "ipython3",
   "version": "3.6.0"
  }
 },
 "nbformat": 4,
 "nbformat_minor": 2
}
