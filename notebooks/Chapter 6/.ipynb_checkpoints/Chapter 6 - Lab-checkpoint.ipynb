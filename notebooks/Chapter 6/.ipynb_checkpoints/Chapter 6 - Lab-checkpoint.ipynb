{
 "cells": [
  {
   "cell_type": "markdown",
   "metadata": {},
   "source": [
    "# Lab 1: Subset Selection Methods"
   ]
  },
  {
   "cell_type": "markdown",
   "metadata": {},
   "source": [
    "## Best Subset Selection"
   ]
  },
  {
   "cell_type": "code",
   "execution_count": 1,
   "metadata": {
    "collapsed": true
   },
   "outputs": [],
   "source": [
    "import pandas as pd\n",
    "import numpy as np\n",
    "import matplotlib.pyplot as plt\n",
    "import seaborn as sns\n",
    "\n",
    "%matplotlib inline"
   ]
  },
  {
   "cell_type": "code",
   "execution_count": 2,
   "metadata": {},
   "outputs": [
    {
     "name": "stderr",
     "output_type": "stream",
     "text": [
      "/Users/tsansom/anaconda/lib/python3.5/site-packages/statsmodels/compat/pandas.py:56: FutureWarning: The pandas.core.datetools module is deprecated and will be removed in a future version. Please use the pandas.tseries module instead.\n",
      "  from pandas.core import datetools\n"
     ]
    }
   ],
   "source": [
    "import statsmodels.api as sm\n",
    "\n",
    "#read the data and drop null values\n",
    "hitters = pd.read_csv('../../data/Hitters.csv', index_col=0, na_values='NA').dropna()\n",
    "hitters = pd.get_dummies(hitters, drop_first=True)\n",
    "\n",
    "X = hitters[hitters.columns.drop('Salary')]\n",
    "y = hitters['Salary']\n",
    "\n",
    "#if using statsmodels.api.OLS need to add a constant so an intercept is calculated each time\n",
    "#can also use statsmodels.formula.api.ols but it's about 3x slower\n",
    "X = sm.add_constant(X)"
   ]
  },
  {
   "cell_type": "code",
   "execution_count": 3,
   "metadata": {},
   "outputs": [
    {
     "name": "stdout",
     "output_type": "stream",
     "text": [
      "Processed 19 models on 1 predictors in 0.06559991836547852 seconds\n",
      "Processed 171 models on 2 predictors in 0.25127100944519043 seconds\n",
      "Processed 969 models on 3 predictors in 1.4771909713745117 seconds\n",
      "Processed 3876 models on 4 predictors in 5.939259052276611 seconds\n",
      "Processed 11628 models on 5 predictors in 17.868440866470337 seconds\n",
      "Processed 27132 models on 6 predictors in 42.517436027526855 seconds\n",
      "Processed 50388 models on 7 predictors in 79.5744559764862 seconds\n",
      "Processed 75582 models on 8 predictors in 119.76974701881409 seconds\n",
      "Processed 92378 models on 9 predictors in 153.3619029521942 seconds\n",
      "Processed 92378 models on 10 predictors in 162.67659902572632 seconds\n",
      "Processed 75582 models on 11 predictors in 133.0540919303894 seconds\n",
      "Processed 50388 models on 12 predictors in 84.90292501449585 seconds\n",
      "Processed 27132 models on 13 predictors in 59.414745807647705 seconds\n",
      "Processed 11628 models on 14 predictors in 26.945049047470093 seconds\n",
      "Processed 3876 models on 15 predictors in 8.644429922103882 seconds\n",
      "Processed 969 models on 16 predictors in 2.0756709575653076 seconds\n",
      "Processed 171 models on 17 predictors in 0.37410402297973633 seconds\n",
      "Processed 19 models on 18 predictors in 0.044133901596069336 seconds\n",
      "Processed 1 models on 19 predictors in 0.0026030540466308594 seconds\n",
      "\n",
      "Total elapsed time: 898.9623820781708 seconds\n"
     ]
    }
   ],
   "source": [
    "import itertools\n",
    "import statsmodels.formula.api as smf\n",
    "import statsmodels.api as sm\n",
    "import time\n",
    "\n",
    "#if using statsmodels.api.OLS need to add a constant so intercept is calculated\n",
    "#also statsmodels.api.OLS is 3-4 times faster than statsmodels.formula.api.ols\n",
    "X = sm.add_constant(X)\n",
    "\n",
    "#best subset selection - takes about 10 minutes\n",
    "bss_models = {}\n",
    "\n",
    "TIC = time.time()\n",
    "\n",
    "for i in range(1, len(X.columns)):\n",
    "    tic = time.time()\n",
    "    #this counter will count the number of models that are fitted\n",
    "    ctr = 0\n",
    "    #reset the minimum rss each iteration\n",
    "    min_rss = 1e100\n",
    "    #loop through combinations of variables ('const' stays in every model - intercept)\n",
    "    for combo in itertools.combinations(X.columns.drop('const'), i):\n",
    "        #fit the model with the constant and combo of variables\n",
    "        lr = sm.OLS(y, X[['const'] + list(combo)]).fit()\n",
    "        #calculate the RSS\n",
    "        calc_rss = ((lr.predict() - y) ** 2).sum()\n",
    "        #check if the calculated RSS is less than previous minimum\n",
    "        if calc_rss < min_rss:\n",
    "            min_rss = calc_rss\n",
    "            min_model = lr\n",
    "        ctr += 1\n",
    "    #at the end of the loop, add the best model to the dictionary along with its RSS\n",
    "    bss_models[i] = [min_model, min_rss]\n",
    "    toc = time.time()\n",
    "    print('Processed {} models on {} predictors in {} seconds' \\\n",
    "          .format(ctr, i, toc-tic))\n",
    "    \n",
    "TOC = time.time()\n",
    "print('\\nTotal elapsed time: {} seconds'.format(TOC-TIC))"
   ]
  },
  {
   "cell_type": "code",
   "execution_count": 33,
   "metadata": {},
   "outputs": [
    {
     "data": {
      "image/png": "[encoded data removed]",
      "text/plain": [
       "<matplotlib.figure.Figure at 0x119344630>"
      ]
     },
     "metadata": {},
     "output_type": "display_data"
    }
   ],
   "source": [
    "indices = sorted(list(bss_models.keys()))\n",
    "\n",
    "aic = np.array([])\n",
    "bic = np.array([])\n",
    "adj_r2 = np.array([])\n",
    "rss = np.array([])\n",
    "\n",
    "\n",
    "for i in range(1, len(bss_models)+1):\n",
    "    aic = np.append(aic, bss_models[i][0].aic)\n",
    "    bic = np.append(bic, bss_models[i][0].bic)\n",
    "    adj_r2 = np.append(adj_r2, bss_models[i][0].rsquared_adj)\n",
    "    rss = np.append(rss, bss_models[i][1])\n",
    "    \n",
    "fig, (ax1, ax2, ax3) = plt.subplots(1, 3, figsize=(12, 4))\n",
    "\n",
    "ax1.plot(indices, rss)\n",
    "ax1.set(xlabel='Number of Variables', ylabel='RSS')\n",
    "\n",
    "ax2.plot(indices, aic)\n",
    "ax2.plot(indices, bic)\n",
    "ax2.legend(['AIC', 'BIC'], loc=9)\n",
    "ax2.scatter(aic.argmin()+1, aic[aic.argmin()], c='r')\n",
    "ax2.scatter(bic.argmin()+1, bic[bic.argmin()], c='r')\n",
    "ax2.set(xlabel='Number of Variables')\n",
    "\n",
    "ax3.plot(indices, adj_r2)\n",
    "ax3.scatter(adj_r2.argmax()+1, adj_r2[adj_r2.argmax()], c='r')\n",
    "ax3.set(xlabel='Number of Variables', ylabel=r'Adjusted $R^2$');\n",
    "\n",
    "fig.tight_layout()"
   ]
  },
  {
   "cell_type": "markdown",
   "metadata": {},
   "source": [
    "## Forward and Backward Stepwise Selection"
   ]
  },
  {
   "cell_type": "code",
   "execution_count": 5,
   "metadata": {
    "collapsed": true
   },
   "outputs": [],
   "source": [
    "#forward selection\n",
    "\n",
    "unused_vars = X.columns.drop('const')\n",
    "model_vars = []\n",
    "fs_models = {}\n",
    "\n",
    "for i in range(len(unused_vars)):\n",
    "    min_rss = 1e100\n",
    "    for v in unused_vars:\n",
    "        lr = sm.OLS(y, X[['const'] + list(model_vars) + [v]]).fit()\n",
    "        calc_rss = ((lr.predict() - y) ** 2).sum()\n",
    "        if calc_rss < min_rss:\n",
    "            min_rss = calc_rss\n",
    "            min_model = lr\n",
    "            min_var = v\n",
    "    model_vars.append(min_var)\n",
    "    unused_vars = unused_vars.drop(min_var)\n",
    "    fs_models[i+1] = [min_model, min_rss]"
   ]
  },
  {
   "cell_type": "code",
   "execution_count": 15,
   "metadata": {},
   "outputs": [],
   "source": [
    "#backward selection\n",
    "model_vars = X.columns.drop('const')\n",
    "omitted_vars = []\n",
    "bs_models = {}\n",
    "\n",
    "for i in range(len(model_vars), 0, -1):\n",
    "    lr = sm.OLS(y, X[['const'] + list(model_vars)]).fit()\n",
    "    calc_rss = ((lr.predict() - y) ** 2).sum()\n",
    "    bs_models[i] = [lr, calc_rss]\n",
    "    min_rss = 1e100\n",
    "    if len(model_vars) > 1:\n",
    "        for v in model_vars:\n",
    "            lr = sm.OLS(y, X[['const'] + list(model_vars.drop(v))]).fit()\n",
    "            calc_rss = ((lr.predict() - y) ** 2).sum()\n",
    "            if calc_rss < min_rss:\n",
    "                min_rss = calc_rss\n",
    "                min_var = v\n",
    "        model_vars = model_vars.drop(min_var)"
   ]
  },
  {
   "cell_type": "code",
   "execution_count": 16,
   "metadata": {},
   "outputs": [
    {
     "name": "stdout",
     "output_type": "stream",
     "text": [
      "7 Variable(s)\n",
      "-------------\n",
      "Best subset selection\n",
      "\tVariables: ['Hits', 'Walks', 'CAtBat', 'CHits', 'CHmRun', 'PutOuts', 'Division_W']\n",
      "\tRSS: 25906547.500623763\n",
      "\n",
      "Forward selection\n",
      "\tVariables: ['CRBI', 'Hits', 'PutOuts', 'Division_W', 'AtBat', 'Walks', 'CWalks']\n",
      "\tRSS: 25954217.081713848\n",
      "\n",
      "Backward selection\n",
      "\tVariables: ['AtBat', 'Hits', 'Walks', 'CRuns', 'CWalks', 'PutOuts', 'Division_W']\n",
      "\tRSS: 25933487.44648559\n",
      "\n"
     ]
    }
   ],
   "source": [
    "ind = 7\n",
    "\n",
    "print('{} Variable(s)\\n-------------'.format(ind))\n",
    "print('Best subset selection\\n\\tVariables: {}\\n\\tRSS: {}\\n' \\\n",
    "      .format(list(bss_models[ind][0].params.index.drop('const')), \n",
    "              bss_models[ind][1]))\n",
    "print('Forward selection\\n\\tVariables: {}\\n\\tRSS: {}\\n' \\\n",
    "      .format(list(fs_models[ind][0].params.index.drop('const')), fs_models[ind][1]))\n",
    "print('Backward selection\\n\\tVariables: {}\\n\\tRSS: {}\\n' \\\n",
    "      .format(list(bs_models[ind][0].params.index.drop('const')), bs_models[ind][1]))"
   ]
  },
  {
   "cell_type": "markdown",
   "metadata": {},
   "source": [
    "## Choosing Among Models Using the Validation Set Approach and Cross-Validation"
   ]
  },
  {
   "cell_type": "code",
   "execution_count": 29,
   "metadata": {},
   "outputs": [
    {
     "name": "stdout",
     "output_type": "stream",
     "text": [
      "Processed 19 models on 1 predictors in 0.04883885383605957 seconds\n",
      "Processed 171 models on 2 predictors in 0.39122486114501953 seconds\n",
      "Processed 969 models on 3 predictors in 2.192736864089966 seconds\n",
      "Processed 3876 models on 4 predictors in 9.270416975021362 seconds\n",
      "Processed 11628 models on 5 predictors in 27.200448989868164 seconds\n",
      "Processed 27132 models on 6 predictors in 63.329612016677856 seconds\n",
      "Processed 50388 models on 7 predictors in 118.22149896621704 seconds\n",
      "Processed 75582 models on 8 predictors in 179.38210201263428 seconds\n",
      "Processed 92378 models on 9 predictors in 220.01990485191345 seconds\n",
      "Processed 92378 models on 10 predictors in 222.53420686721802 seconds\n",
      "Processed 75582 models on 11 predictors in 182.87125706672668 seconds\n",
      "Processed 50388 models on 12 predictors in 122.73347091674805 seconds\n",
      "Processed 27132 models on 13 predictors in 66.56443810462952 seconds\n",
      "Processed 11628 models on 14 predictors in 28.760069131851196 seconds\n",
      "Processed 3876 models on 15 predictors in 9.726624965667725 seconds\n",
      "Processed 969 models on 16 predictors in 2.4661498069763184 seconds\n",
      "Processed 171 models on 17 predictors in 0.43716001510620117 seconds\n",
      "Processed 19 models on 18 predictors in 0.05022096633911133 seconds\n",
      "Processed 1 models on 19 predictors in 0.0033919811248779297 seconds\n",
      "\n",
      "Total elapsed time: 1256.2062511444092 seconds\n"
     ]
    }
   ],
   "source": [
    "from sklearn.model_selection import train_test_split\n",
    "\n",
    "X_train, X_test, y_train, y_test = train_test_split(X, y, test_size=0.5, random_state=0)\n",
    "\n",
    "bss_val_models = {}\n",
    "\n",
    "TIC = time.time()\n",
    "\n",
    "for i in range(1, len(X.columns)):\n",
    "    tic = time.time()\n",
    "    #this counter will count the number of models that are fitted\n",
    "    ctr = 0\n",
    "    #reset the minimum rss each iteration\n",
    "    min_mse = 1e100\n",
    "    #loop through combinations of variables ('const' stays in every model - intercept)\n",
    "    for combo in itertools.combinations(X.columns.drop('const'), i):\n",
    "        #fit the model with the constant and combo of variables\n",
    "        lr = sm.OLS(y_train, X_train[['const'] + list(combo)]).fit()\n",
    "        #calculate the test error (MSE)\n",
    "        calc_mse = ((lr.predict(exog=X_test[['const'] + list(combo)]) - y_test) ** 2).mean()\n",
    "        #check if the calculated RSS is less than previous minimum\n",
    "        if calc_mse < min_mse:\n",
    "            min_mse = calc_mse\n",
    "            min_model = lr\n",
    "        ctr += 1\n",
    "    #at the end of the loop, add the best model to the dictionary along with its RSS\n",
    "    bss_val_models[i] = [min_model, min_mse]\n",
    "    toc = time.time()\n",
    "    print('Processed {} models on {} predictors in {} seconds' \\\n",
    "          .format(ctr, i, toc-tic))\n",
    "    \n",
    "TOC = time.time()\n",
    "print('\\nTotal elapsed time: {} seconds'.format(TOC-TIC))"
   ]
  },
  {
   "cell_type": "code",
   "execution_count": 32,
   "metadata": {},
   "outputs": [
    {
     "data": {
      "text/plain": [
       "{1: [<statsmodels.regression.linear_model.RegressionResultsWrapper at 0x11900bfd0>,\n",
       "  150597.8187646966],\n",
       " 2: [<statsmodels.regression.linear_model.RegressionResultsWrapper at 0x118deb240>,\n",
       "  124663.62443582185],\n",
       " 3: [<statsmodels.regression.linear_model.RegressionResultsWrapper at 0x118deb7b8>,\n",
       "  118350.42786488455],\n",
       " 4: [<statsmodels.regression.linear_model.RegressionResultsWrapper at 0x118ffc668>,\n",
       "  112285.61948960439],\n",
       " 5: [<statsmodels.regression.linear_model.RegressionResultsWrapper at 0x1182258d0>,\n",
       "  107214.63106853243],\n",
       " 6: [<statsmodels.regression.linear_model.RegressionResultsWrapper at 0x118ffc748>,\n",
       "  104295.77312742606],\n",
       " 7: [<statsmodels.regression.linear_model.RegressionResultsWrapper at 0x118ffc198>,\n",
       "  103280.32404745815],\n",
       " 8: [<statsmodels.regression.linear_model.RegressionResultsWrapper at 0x118ffcb38>,\n",
       "  102951.96417314741],\n",
       " 9: [<statsmodels.regression.linear_model.RegressionResultsWrapper at 0x118ffcc88>,\n",
       "  102764.98413583483],\n",
       " 10: [<statsmodels.regression.linear_model.RegressionResultsWrapper at 0x118ffce80>,\n",
       "  103395.255354726],\n",
       " 11: [<statsmodels.regression.linear_model.RegressionResultsWrapper at 0x118ff5c50>,\n",
       "  104716.03437859235],\n",
       " 12: [<statsmodels.regression.linear_model.RegressionResultsWrapper at 0x118ffcf28>,\n",
       "  106330.92466993886],\n",
       " 13: [<statsmodels.regression.linear_model.RegressionResultsWrapper at 0x118ffcfd0>,\n",
       "  107848.9393542411],\n",
       " 14: [<statsmodels.regression.linear_model.RegressionResultsWrapper at 0x118db2be0>,\n",
       "  109651.18991678656],\n",
       " 15: [<statsmodels.regression.linear_model.RegressionResultsWrapper at 0x118db2c88>,\n",
       "  111335.92515719449],\n",
       " 16: [<statsmodels.regression.linear_model.RegressionResultsWrapper at 0x118db2048>,\n",
       "  113482.28262410755],\n",
       " 17: [<statsmodels.regression.linear_model.RegressionResultsWrapper at 0x118db2a20>,\n",
       "  117082.869735172],\n",
       " 18: [<statsmodels.regression.linear_model.RegressionResultsWrapper at 0x118db29e8>,\n",
       "  121415.35211478123],\n",
       " 19: [<statsmodels.regression.linear_model.RegressionResultsWrapper at 0x118db2fd0>,\n",
       "  134597.4990250814]}"
      ]
     },
     "execution_count": 32,
     "metadata": {},
     "output_type": "execute_result"
    }
   ],
   "source": [
    "bss_val_models"
   ]
  },
  {
   "cell_type": "code",
   "execution_count": null,
   "metadata": {
    "collapsed": true
   },
   "outputs": [],
   "source": []
  }
 ],
 "metadata": {
  "kernelspec": {
   "display_name": "Python [default]",
   "language": "python",
   "name": "python3"
  },
  "language_info": {
   "codemirror_mode": {
    "name": "ipython",
    "version": 3
   },
   "file_extension": ".py",
   "mimetype": "text/x-python",
   "name": "python",
   "nbconvert_exporter": "python",
   "pygments_lexer": "ipython3",
   "version": "3.5.3"
  }
 },
 "nbformat": 4,
 "nbformat_minor": 2
}
