{
 "cells": [
  {
   "cell_type": "markdown",
   "metadata": {},
   "source": [
    "In the regression setting, the standard linear model  \n",
    "\n",
    "$$Y = \\beta_0 + \\beta_1X_1 + ... + \\beta_pX_p + \\epsilon$$  \n",
    "\n",
    "is commonly used to describe the relationship between a response $Y$ and a set of variables $X_1, X_2, ..., X_p$. In this chapter we will discuss some ways in which the simple linear model can be improved, by replacing plain least squares fitting with some alternative fitting procedures.  \n",
    "\n",
    "Why would we want to use another fitting procedure instead of least squares?  \n",
    " 1. *Prediction Accuracy*  \n",
    "  * Provided that the true relationship between the response and the predictors is approximately linear, the least squares estimates will have low bias. If $n\\gg p$, then the least squares estimates tend to also have low variance, and will perform well on test observations. However if $n$ is not much larger than $p$, then there can be a lot of variability in the least squares fit, resulting in overfitting and poor predictions on future observations. And if $p > n$, then there is no longer a unique least squares coefficient estimate (The variance is *infinite* so the method cannot be used at all). By *constraining* or *shrinking* the estimated coefficients, we can ofen substantially reduce the variance at the cost of a negligible increase in bias, which can lead to substantial improvements in the accuracy of predictions.  \n",
    "  <br>\n",
    " 2. *Model Interpretability*\n",
    "  * In many cases, some or many of the variables are not actually associated with the response. Including such *irrelevant* variables leads to unnecesary complexity in the resulting model. By removing these variables (setting their coefficients to zero), we can obtain a model that is more easily interpreted. In this case, least squares is extremely unlikely to yield any coefficient estimates that are exactly zero.  \n",
    "  \n",
    "In this chapter we discuss three important classes of alternatives to using least squares fit:  \n",
    "\n",
    " 1. *Subset Selection*  \n",
    "  * Identify a subset of the $p$ predictors that we believe are related to the response, then fit a model using least squares on the reduced set of variables.  \n",
    "  <br>\n",
    " 2. *Shrinkage*  \n",
    "  * Fit a model with all $p$ predictors but shrink coefficients towards zero relative to the least squares estimates. This shrinkage (a.k.a. *regularization*) has the effect of reducing variance. Depending on what type of shrinkage is performed, some of the coefficients may be estimated to be exactly zero. Hence, shrinkage methods can also perform variable selection.  \n",
    "  <br>\n",
    " 3. *Dimension Reduction*  \n",
    "  * This approach involves *projecting* the $p$ predictors into a $M$-dimensional space, where $M<p$. This is achieved by computing $M$ different *linear combinations* or *projections* of the variables. Then these $M$ projections are used as predictors to fit a linear regression model by least squares.  \n",
    "  \n"
   ]
  },
  {
   "cell_type": "markdown",
   "metadata": {},
   "source": [
    "# Subset Selection"
   ]
  },
  {
   "cell_type": "markdown",
   "metadata": {},
   "source": [
    "## Best Subset Selection  \n",
    "To perform *best subset selection* we fit a separate least squares regression for each possible combination of the $p$ predictors and then identify which one is the *best*. The problem of selecting the *best model* from the $2^p$ possibilities considered by best subset selection is not trivial. This is usually broken up into two stages, as in Algorithm 6.1.  \n",
    "\n",
    "---\n",
    "**Algorithm 6.1**: *Best subset selection*  \n",
    "\n",
    "  1. Let $M_0$ denote the *null model*, which contains no predictors. This model simply predicts the sample mean for each observation.  \n",
    "  <br>\n",
    "  2. For $k=1, 2, ..., p$:  \n",
    "    a. Fit all $\\bigl(_k^p\\bigr)$ models that contain exactly $k$ predictions  \n",
    "    b. Pick the best among these $\\bigl(_k^p\\bigr)$ models and call it $M_k$. Here *best* is defined as having the smallest RSS, or equivalently largest $R^2$.  \n",
    "  <br>\n",
    "  3. Select a single best model from among $M_0, ..., M_p$ using cross validated prediction error, $C_p$ (AIC), BIC, or adjusted $R^2$.\n",
    "\n",
    "---  \n",
    "\n",
    "In Algorithm 6.1, step 2 identifies the best model for each subset size (on the training data) which reduces the problem from one of $2^p$ possible models to one of $p+1$ possible models.  \n",
    "\n",
    "Now in order to select a single best model, we must simple choose among these $p+1$ options. However, since RSS decreases monotonically and $R^2$ increases monotonically as the number of features increases, we will always end up with a model involving all the variables. The problem is that a low RSS and a high $R^2$ indicates a model with a low *training* error, whereas we wish to choose a model that has a low *test* error. Therefore, in step 3, we us cross-validated prediction error, $C_p$, BIC, or adjusted $R^2$ in order to select among $M_0, M_1, ..., M_p$.  \n",
    "\n",
    "In the case of logistic regression, *deviance* plays the role of RSS in step 2 for selecting the best model. Deviance is negative two times the maximized log-likelihood. The smaller the deviance, the better the fit.  \n",
    "\n",
    "While best subset selection is simple and conceptually appealing, it suffers from computational limitations. If $p=10$ there are approximately 1,000 possible models. If $p=20$ there are over one million possibilities. Best subset becomes computationally infeasible around $p=40$, even with extremely fast modern computers.  "
   ]
  },
  {
   "cell_type": "markdown",
   "metadata": {},
   "source": [
    "## Stepwise Selection  \n",
    "Best subset selection cannot be applied with very large $p$. Best subset selection may also suffer from statistical problems when $p$ is large. The larger the search space, the higher the chance of finding models that look good on training data, even though they might not have any predictive power on future data. Thus, an enourmous search space can lead to overfitting and high variance of the coefficient estimates.  \n",
    "\n",
    "*Stepwise* methods explore a far more restricted set of models."
   ]
  },
  {
   "cell_type": "markdown",
   "metadata": {},
   "source": [
    "### Forward Stepwise Selection  \n",
    "*Forward stepwise selection* begins with a model containing no predictors, and then adds predictors to the model that gives the greatest *additional* improvement, one-at-a-time until all predictors are in the model.  \n",
    "\n",
    "---\n",
    "**Algorithm 6.2**: *Forward stepwise selection  \n",
    "\n",
    "  1. Let $M_0$ denote the *null* model, which contains no predictors.  \n",
    "  <br>\n",
    "  2. For $k=0, ..., p-1$:  \n",
    "    a. Consider all $p-k$ models that augment the predictors in $M_k$ with one additional predictor.  \n",
    "    b. Choose the *best* among these $p-k$ models, and call it $M_{k+1}$. Here *best* is defined as having the smallest RSS or highest $R^2$.  \n",
    "  <br>\n",
    "  3. Select a single best model from among $M_0, ..., M_p$ using cross validated prediction error, $C_p$ (AIC), BIC, or adjusted $R^2$  \n",
    "  \n",
    "---  \n",
    "\n",
    "Forward stepwise selection involves fitting $1 + \\sum_{k=0}^{p-1}(p-k) = 1 + p(p+1)/2$ instead of $2^p$ models for best subset selection. When $p=20$, best subset selection requires fitting 1,048,576 models, wheras forward stepwise selection requires fitting only 211 models!  \n",
    "\n",
    "While forward stepwise selection's computational advantages are clear, it is not guaranteed to find the best possible model out of all $2^p$ possible models. Consider a data set with $p=3$ predictors; the best possible one-variable model icludes $X_1$ and the best possible two-variable model contains $X_2$ and $X_3$. Forward selection will fail to select the best possible two-variable model, because $M_1$ will contain $X_1$, so $M_2$ must contain $X_1$ as well.  \n",
    "\n",
    "Forward stepwise selection can be applied to high-dimensional data sets (e.g. $n<p$), however it is only possible to construct submodels $M_0, M_{n-1}$ since least squares will not yield a unique solution if $p \\ge n$."
   ]
  },
  {
   "cell_type": "markdown",
   "metadata": {
    "collapsed": true
   },
   "source": [
    "### Backward Stepwise Selection  \n",
    "Unlike forward stepwise selection, backward stepwise selection begins with the full least squares model containing all $p$ predictors, and then iteratively removes the least useful predictor one-at-a-time.  \n",
    "\n",
    "---  \n",
    "**Algorithm 6.3**: *Backward Stepwise Selection*  \n",
    "\n",
    "  1. Let $M_p$ denote the *full* model, which contains all $p$ predictors.  \n",
    "  <br>\n",
    "  2. For $k = p, p-1, ..., 1$:  \n",
    "    a. Consider all $k$ models that contain all but one of the predictors in $M_k$, for a total of $k-1$ predictors.  \n",
    "    b. Choose the *best* among these $k$ models, and call it $M_{k-1}$. here *best* is defined as having smallest RSS or highest $R^2$.  \n",
    "  <br>\n",
    "  3. Select a single best model from among $M_0, ..., M_p$ using cross validated prediction error, $C_p$ (AIC), BIC, or adjusted $R^2$.  \n",
    "  \n",
    "---  \n",
    "\n",
    "Backward stepwise selection searches through $1+p(p-1)/2$ models as in forward selection so it can be applied when $p$ is too large to apply best subset selection. Also like forward stepwise selection, backward stepwise selection is not guaranteed to yield the *best* model containing a subset of the $p$ predictors.  \n",
    "\n",
    "Backward selection requires that the number of samples $n$ is larger than the number of variables $p$ (so that the full model can be fit). In contrast, forward selection can be used even when $n<p$, and so is the only viable subset method when $p$ is very large.  "
   ]
  },
  {
   "cell_type": "markdown",
   "metadata": {},
   "source": [
    "### Hybrid Approaches  \n",
    "Hybrid versions of forward and backward stepwise selection are available, in which variables are added to the model sequentially, in analogy to forward selection. However, after adding each new variable, the method may also remove any variables that no longer provide an improvement in the model fit. Such an approach attempts to more closely mimic best sub- set selection while retaining the computational advantages of forward and backward stepwise selection"
   ]
  },
  {
   "cell_type": "markdown",
   "metadata": {},
   "source": [
    "## Choosing the Optimal Model  \n",
    "Since the model containing all $p$ predictors will always have the smallest RSS and the largest $R^2$ (since they are related to *training* error), we need to select the best model with respect to *test* error. There are two common approaches:  \n",
    "\n",
    "  1. We can indirectly estimate the test error by making an *adjustment* to the training error to account for the bias due to overfitting.  \n",
    "  \n",
    "  2. We can *directly* estimate the test error, using either a validation set approach or a cross-validation approach. "
   ]
  },
  {
   "cell_type": "markdown",
   "metadata": {},
   "source": [
    "### $C_p$, AIC, BIC, and Adjusted $R^2$  \n",
    "The training set MSE is generally an underestimate of the test MSE (recall MSE = RSS/$n$) because when we fit a model to the training data using least squares, we specifically estimate the regression coefficients such that the training RSS (but not the test RSS) is minimized. In particular, the training error will decrease as more variables are included in the model but the test error may not. Therefore, training set RSS and training set $R^2$ cannot be used to select from among the set of models with a different number of variables.  \n",
    "\n",
    "A number of techniques for *adjusting* the training error for the model size are available. These approaches can be used to select among a set of models with different number of variables.  \n",
    "\n",
    "For a fitted least squares model containing $d$ predictors, the $C_p$ estimate of the test MSE is computed using the equation  \n",
    "\n",
    "$$C_p=\\frac{1}{n}(RSS+2d\\widehat{\\sigma}^2)$$  \n",
    "\n",
    "where $\\widehat{\\sigma}^2$ is an estimate of the variance of the error $\\epsilon$ associated with each response measurement. Typically $\\widehat{\\sigma}^2$ is estimated using the full model containing all predictors. Essentially, the $C_p$ statistic adds a penalty of $2d\\widehat{\\sigma}^2$ to the training RSS in order to adjust for the fact that the training error tends to underestimate the test error. The penalty increases as the number of predictors in the model increases, which is intended to adjust for the corresponding decrease in RSS. It can be shown that if $\\widehat{\\sigma}^2$ is an unbiased estimator of $\\sigma^2$, then $C_p$ is an unbiased estimate of test MSE.  \n",
    "\n",
    "The *Akaike information criterion* (AIC) is defined for a large class of models fit by maximum likelihood. In the case of linear regression with Gaussian errors, maximum likelihood and least squares are the same thing. In this case AIC is given by  \n",
    "\n",
    "$$AIC=\\frac{1}{n\\widehat{\\sigma}^2}(RSS + 2d\\widehat{\\sigma}^2)$$  \n",
    "\n",
    "where, for simplicity, an additive constant has been omitted. For least squares, $C_p$ and AIC are proportional to each other.  \n",
    "\n",
    "The *Bayesian information criterion* is derived from a Bayesian point of view, but looks similar to $C_p$ and AIC. For the least squares model with $d$ predictors, the BIC is, up to irrelevant constants, given by  \n",
    "\n",
    "$$BIC = \\frac{1}{n\\widehat{\\sigma}^2}(RSS + \\text{log}(n)d\\widehat{\\sigma}^2)$$  \n",
    "\n",
    "Notice that BIC replaces the $2d\\widehat{\\sigma}^2$ with a $\\text{log}(n)d\\widehat{\\sigma}^2$. Since $\\text{log}(n) > 2$ for any $n>7$, the BIC statistic generally places a heavier penalty on models with many variables, and hence results in the selection of smaller models than $C_p$.  \n",
    "\n",
    "The adjusted $R^2$ statistic is another popular approach for selecting among a set of models that contain different numbers of variables. The usual $R^2$ is defined as $1-RSS/TSS$ where $TSS=\\sum(y_i-\\bar{y})^2$ is the *total sum of squares* for the response. Since RSS always decreases as more variables are added to the model, the $R^2$ always increases as more variables are added. For a least squares model with $d$ variables, the adjusted $R^2$ statistic is calculated as  \n",
    "\n",
    "$$\\text{Adjusted }R^2=1-\\frac{RSS/(n-d-1)}{TSS/(n-1)}$$  \n",
    "\n",
    "Unlike $C_p$, AIC, and BIC, for which a small value indicates a model with low test error, a large value of adjusted $R^2$ indicates a model with a small test error. Maximizing the adjusted $R^2$ is equivalent to minimizing $\\frac{RSS}{n-d-1}$, which may increase or decrease as the number of variables in the model increases, due to the presence of $d$ in the denominator.  \n",
    "\n",
    "The intuition is that once all of the correct variables have been included in the model, adding additional *noise* variables will lead to only a very small decrease in RSS. However, adding noise variables leads to an increase in $d$, which will lead to an increase in $\\frac{RSS}{n-d-1}$, and consequently a decrease in the adjusted $R^2$. Unlike the $R^2$ statistic, the adjusted $R^2$ statistic *pays a price* for the inclusion of unnecessary variables in the model."
   ]
  },
  {
   "cell_type": "markdown",
   "metadata": {
    "collapsed": true
   },
   "source": [
    "### Validation and Cross-Validation  \n",
    "We can also directly estimate the test error using the validation set and cross-validation methods. We can compute the validation set error or the cross-validation error for each model under consideration, and then select the model for which the resulting estimated test error is smalles. This has an advantage relative to $C_p$, AIC, BIC, and adjusted $R^2$, in that it provides a direct estimate of test error and makes less assumptions about the true underlying model. It can also be used in a wider range of model selection tasks, even in cases where it is hard to pinpoint the model degrees of freedom or hard to estimate the error variance $\\sigma^2$.  \n",
    "\n",
    "Because the estimated test error of models which include an increasing number of variables are quite similar, we can select a model using the *one-standard-error rule*. We first calculate the standard error of the estimated test MSE for each model size, and then select the smallest model for which the estimated test error is within one standard error of the lowest point on the curve. The rationale is that if a set of models appear to be more or less equally qood, then we might as well choose the simplest method (least number of predictors).  "
   ]
  },
  {
   "cell_type": "markdown",
   "metadata": {},
   "source": [
    "# Shrinkage Methods  \n",
    "As an alternative to fitting a linear model with least squares, we can fit a model containing all $p$ predictors using a technique that *constrains* or *regularizes* the coefficient estimates, ore equivalently, that *shrinks* the coefficients towards zero. It turns out that shrinking the coefficient estimates can significantly reduce their variance. The best-known techniques for shrinking the regression coefficients towards zero are *ridge regression * and the *lasso*.  "
   ]
  },
  {
   "cell_type": "markdown",
   "metadata": {},
   "source": [
    "## Ridge Regression  \n",
    "The least squares fitting procedure estimates $\\beta_0, \\beta_1, ..., \\beta_p$ using the values that minimize  \n",
    "\n",
    "$$RSS=\\sum_{i=1}^n\\biggl(y_i - \\beta_0 -\\sum_{j=1}^p\\beta_jx_{ij}\\biggr)^2$$  \n",
    "\n",
    "*Ridge Regression* is very similar to least squares, except that the coefficients are estimated by minimizing a slightly different quantitiy. In particular, the ridge regression coefficient estimates $\\widehat{\\beta}^R$ are the values that minimize  \n",
    "\n",
    "$$\\sum_{i=1}^n\\biggl(y_i-\\beta_0-\\sum_{j=1}^p\\beta_jx_{ij}\\biggr)^2 + \\lambda\\sum_{j=1}^p\\beta_j^2=RSS+\\lambda\\sum_{j=1}^p\\beta_j^2$$  \n",
    "\n",
    "where $\\lambda \\ge 0$ is a *tuning parameter*, to be determined separately. As with least squares, ridge regression seeks coefficient estimates that fit the data well, by making the RSS small. However, the second term $\\lambda\\sum_j\\beta_j^2$, called the *shrinkage penalty*, is small when $\\beta_1, ..., \\beta_p$ are close to zero, and so it has the effect of *shrinking* the estimates of $\\beta_j$ towards zero. $\\lambda$ serves to control the relative impact of these two terms on the regression coefficient estimates. When $\\lambda=0$, the penalty term has no effect, and ridge regression will produce the least squares estimates. However, as $\\lambda \\to \\infty$, the impact of the shrinkage penalty grows, and the ridge regression coefficient estimates will approach zero. Ridge regression will produce a different set of coefficient estimates, $\\widehat{\\beta}_{\\lambda}^R$, for each value of $\\lambda$.  \n",
    "\n",
    "Notice that the shrinkage penalty is applied to $\\beta_1, ..., \\beta_p$ but not to the intercept $\\beta_0$. We want to shrink the estimated association of each variable with the response; however, we do not want to shrink the intercept, which is simply a measure of the mean value of the response when $x_{i1}=x_{i2}=...=x_{ip}=0$. If we assume that the variables have been centered to have mean zero before ridge regression is performed, then the estimated intercept will take the form $\\beta_0=\\bar{y}=\\sum_{i=1}^ny_i/n$."
   ]
  },
  {
   "cell_type": "code",
   "execution_count": 1,
   "metadata": {
    "collapsed": true
   },
   "outputs": [],
   "source": [
    "import pandas as pd\n",
    "import numpy as np\n",
    "import matplotlib.pyplot as plt\n",
    "import seaborn as sns\n",
    "import statsmodels.formula.api as smf\n",
    "\n",
    "%matplotlib inline"
   ]
  },
  {
   "cell_type": "code",
   "execution_count": 317,
   "metadata": {
    "collapsed": false
   },
   "outputs": [
    {
     "data": {
      "image/png": "[encoded data removed]",
      "text/plain": [
       "<matplotlib.figure.Figure at 0x314efc18>"
      ]
     },
     "metadata": {},
     "output_type": "display_data"
    }
   ],
   "source": [
    "from sklearn.linear_model import Ridge\n",
    "from sklearn.preprocessing import StandardScaler\n",
    "from sklearn.linear_model import LinearRegression\n",
    "#read the data\n",
    "credit = pd.read_csv('../../data/Credit.csv', index_col=0)\n",
    "#create dummy variables\n",
    "credit = pd.get_dummies(credit, drop_first=True)\n",
    "#get a list of features (predictors)\n",
    "features = credit.columns.drop('Balance')\n",
    "#scale all of the predictors\n",
    "sc = StandardScaler()\n",
    "credit[features] = sc.fit_transform(credit[features])\n",
    "#get X and y arrays for fitting models\n",
    "X = credit[features].values\n",
    "y = credit['Balance'].values\n",
    "#get the least squares regression coefficients\n",
    "lr = LinearRegression()\n",
    "lr.fit(X, y)\n",
    "lr_coefs = lr.coef_\n",
    "#create an array for alpha\n",
    "alpha = np.logspace(-2, 6, 1000)\n",
    "#create an instance of the ridge regression\n",
    "ridge = Ridge()\n",
    "#create a list to store the coefficients for each iteration\n",
    "coefs = []\n",
    "#iterate over alpha and get the ridge regression coefficient estimates\n",
    "for a in alpha:\n",
    "    ridge.set_params(alpha=a)\n",
    "    ridge.fit(X, y)\n",
    "    coefs.append(ridge.coef_)\n",
    "coefs = np.array(coefs)\n",
    "#calculate the l2 norms of the ridge regression coefficient estimates\n",
    "l2_norms = np.sqrt((coefs**2).sum(axis=1))/np.sqrt((lr_coefs**2).sum())\n",
    "\n",
    "#now make the plots\n",
    "fig, (ax1, ax2) = plt.subplots(1, 2, figsize=(12, 4))\n",
    "for i in range(len(features)):\n",
    "    if features[i] == 'Income':\n",
    "        ax1.semilogx(alpha, coefs[:, i], '-k', label='Income')\n",
    "        ax2.plot(l2_norms, coefs[:, i], '-k', label='Income')\n",
    "    elif features[i] == 'Limit':\n",
    "        ax1.semilogx(alpha, coefs[:, i], '--r', label='Limit')\n",
    "        ax2.plot(l2_norms, coefs[:, i], '--r', label='Limit')\n",
    "    elif features[i] == 'Rating':\n",
    "        ax1.semilogx(alpha, coefs[:, i], linestyle='dotted', color='blue', label='Rating')\n",
    "        ax2.plot(l2_norms, coefs[:, i], linestyle='dotted', color='blue', label='Rating')\n",
    "    elif features[i] == 'Student_Yes':\n",
    "        ax1.semilogx(alpha, coefs[:, i], '-.', color='orange', label='Student')\n",
    "        ax2.plot(l2_norms, coefs[:, i], '-.', color='orange', label='Student')\n",
    "    else:\n",
    "        ax1.semilogx(alpha, coefs[:, i], color='lightgray', zorder=1)\n",
    "        ax2.plot(l2_norms, coefs[:, i], color='lightgray', zorder=1)\n",
    "        \n",
    "ax1.legend()\n",
    "ax1.set(xlabel=r'$\\lambda$', ylabel='Standardized Coefficients')\n",
    "ax2.set(xlabel=r'$||\\widehat{\\beta}_{\\lambda}^R||_2/||\\widehat{\\beta}||_2$',\n",
    "        ylabel='Standardized Coefficients');"
   ]
  },
  {
   "cell_type": "markdown",
   "metadata": {},
   "source": [
    "### An Application to the Credit Data\n",
    "In the above figure, the ridge regression coefficient estimates for the credit data are displayed. The left-panel shows how the coefficient estimates shrink towards zero as $\\lambda$ increases. Although the ridge coefficient estimates tend to decrease in aggregate as $\\lambda$ increases, individual coefficients may occasionally increase as $\\lambda$ increases.  \n",
    "\n",
    "The right-panel displays the same ridge coefficient estimates as the left-hand panel, but are displayed with $\\frac{||\\widehat{\\beta}_{\\lambda}^R||_2}{||\\widehat{\\beta}||_2}$ on the $x$-axis. $\\widehat{\\beta}$ denotes the vecor of least squares coefficient estimates. The notation $||\\beta||_2$ denotes the *$\\ell_2$ norm* of a vector and is defined as $||\\beta||_2 = \\sqrt{\\sum_{j=1}^p\\beta_j^2}$. It measures the distance of $\\beta$ from zero. As $\\lambda$ increases, the $\\ell_2$ norm of $\\widehat{\\beta}_{\\lambda}^R$ will *always* decrease, and so will $\\frac{||\\widehat{\\beta}_{\\lambda}^R||_2}{||\\widehat{\\beta}||_2}$. The latter quantity ranges from 1 (when $\\lambda=0$, in which case the ridge regression coefficient estimate is the same as the least squares estimate, and so their $\\ell_2$ norms are the same) to 0 (when $\\lambda=\\infty$, in which case the ridge regression coefficient estimate is a vector of zeros, with $\\ell_2$ norm equal to zero). Thus, we can think of the $x$-axis of the right-hand panel of the figure above as the amount that the ridge regression coefficient estimates have been shrunken towards zero. A small value indicates that they have been shrunken very close to zero.  \n",
    "\n",
    "The standard least squares coefficient estimates are *scale equivalent*: multiplying $X_j$ by a constant $c$ simply leads to a scaling of the least squares coefficient estimates by a factor of $1/c$. In other words, regardless of how the $j$th predictor is scaled, $X_j\\widehat{\\beta}_j$ will remain the same. In contrast, the ridge regression coefficient estimates can change *substantially* when multiplying a given predictor by a constant. In other words, $X_j\\widehat{\\beta}_{j, \\lambda}^R$ will depent not only on the value of $\\lambda$, but also on the scaling of the $j$th predictor. In fact, the value of $X_j\\widehat{\\beta}_{j, \\lambda}^R$ may even depend on the scaling of the *other* predictors! Therefore, it is best to apply ridge regression after *standardizing the predictors*, using the formula  \n",
    "\n",
    "$$\\tilde{x}_{ij} = \\frac{x_{ij}}{\\sqrt{\\frac{1}{n}\\sum_{i=1}^n(x_{ij}-\\bar{x}_j)^2}}$$  \n",
    "\n",
    "So that they are all on the same scale. The denominator is the estimated standard deviation of the $j$th predictor. Consequently, all of the standardized predictors will have a standard deviation of one. As a result, the final fit will not depend on the scal on which the predictors are measured."
   ]
  },
  {
   "cell_type": "markdown",
   "metadata": {},
   "source": [
    "### Why Does Ridge Regression Improve Over Least Squares?  \n",
    "Ridge regression's advantage over least quares is rooted in the *bias-variance trade-off*. As $\\lambda$ increases, the flexibility of the ridge regression fit decreases, leading to decreased variance but increased bias. with $\\lambda=0$ the variance is high but there is no bias. As $\\lambda$ increases, the shrinkage of the ridge coefficient estimates leads to a substantial reduction in the variance of the predictions, at the expense of a slight increase in bias. Beyond a certain threshold for increasing $\\lambda$, the decrease in variance slows and the shrinkage on the coefficients causes them to be significantly underestimated, resulting in a large increase in bias.  \n",
    "\n",
    "In general, when the number of variables $p$ is almost as large as the number of observations $n$, the least squares estimate will be highly variable (any change in the training data can cause a large change in the least squares coefficient estimates). If $p>n$, then the least squares estimates do not even have a unique solution, whereas ridge regression can still perform well by trading off a small increase in bias for a large decrease in variance. Hence, ridge regression works best in situations where the least squares estimates have high variance.  \n",
    "\n",
    "There is also a computational advantage to ridge regression over best subset selection, which requires $2^p$ models. Even for moderate values of $p$ best subset selection can be computationally infeasible. In contrast, for any fixed value of $\\lambda$, ridge regression only fits a single model, and the model-fitting procedure can be performed quite quickly. "
   ]
  },
  {
   "cell_type": "markdown",
   "metadata": {},
   "source": [
    "## The Lasso\n"
   ]
  },
  {
   "cell_type": "code",
   "execution_count": 299,
   "metadata": {
    "collapsed": false
   },
   "outputs": [
    {
     "data": {
      "text/html": [
       "<table class=\"simpletable\">\n",
       "<caption>OLS Regression Results</caption>\n",
       "<tr>\n",
       "  <th>Dep. Variable:</th>            <td>y</td>        <th>  R-squared:         </th> <td>   0.955</td> \n",
       "</tr>\n",
       "<tr>\n",
       "  <th>Model:</th>                   <td>OLS</td>       <th>  Adj. R-squared:    </th> <td>   0.954</td> \n",
       "</tr>\n",
       "<tr>\n",
       "  <th>Method:</th>             <td>Least Squares</td>  <th>  F-statistic:       </th> <td>   750.3</td> \n",
       "</tr>\n",
       "<tr>\n",
       "  <th>Date:</th>             <td>Thu, 02 Nov 2017</td> <th>  Prob (F-statistic):</th> <td>1.11e-253</td>\n",
       "</tr>\n",
       "<tr>\n",
       "  <th>Time:</th>                 <td>14:50:52</td>     <th>  Log-Likelihood:    </th> <td> -2398.7</td> \n",
       "</tr>\n",
       "<tr>\n",
       "  <th>No. Observations:</th>      <td>   400</td>      <th>  AIC:               </th> <td>   4821.</td> \n",
       "</tr>\n",
       "<tr>\n",
       "  <th>Df Residuals:</th>          <td>   388</td>      <th>  BIC:               </th> <td>   4869.</td> \n",
       "</tr>\n",
       "<tr>\n",
       "  <th>Df Model:</th>              <td>    11</td>      <th>                     </th>     <td> </td>    \n",
       "</tr>\n",
       "<tr>\n",
       "  <th>Covariance Type:</th>      <td>nonrobust</td>    <th>                     </th>     <td> </td>    \n",
       "</tr>\n",
       "</table>\n",
       "<table class=\"simpletable\">\n",
       "<tr>\n",
       "      <td></td>         <th>coef</th>     <th>std err</th>      <th>t</th>      <th>P>|t|</th>  <th>[0.025</th>    <th>0.975]</th>  \n",
       "</tr>\n",
       "<tr>\n",
       "  <th>Intercept</th> <td>  520.0150</td> <td>    4.940</td> <td>  105.276</td> <td> 0.000</td> <td>  510.303</td> <td>  529.727</td>\n",
       "</tr>\n",
       "<tr>\n",
       "  <th>X[0]</th>      <td> -274.6707</td> <td>    8.245</td> <td>  -33.314</td> <td> 0.000</td> <td> -290.881</td> <td> -258.460</td>\n",
       "</tr>\n",
       "<tr>\n",
       "  <th>X[1]</th>      <td>  440.0996</td> <td>   75.565</td> <td>    5.824</td> <td> 0.000</td> <td>  291.532</td> <td>  588.668</td>\n",
       "</tr>\n",
       "<tr>\n",
       "  <th>X[2]</th>      <td>  175.6281</td> <td>   75.858</td> <td>    2.315</td> <td> 0.021</td> <td>   26.484</td> <td>  324.773</td>\n",
       "</tr>\n",
       "<tr>\n",
       "  <th>X[3]</th>      <td>   24.2747</td> <td>    5.945</td> <td>    4.083</td> <td> 0.000</td> <td>   12.586</td> <td>   35.964</td>\n",
       "</tr>\n",
       "<tr>\n",
       "  <th>X[4]</th>      <td>  -10.5766</td> <td>    5.065</td> <td>   -2.088</td> <td> 0.037</td> <td>  -20.535</td> <td>   -0.618</td>\n",
       "</tr>\n",
       "<tr>\n",
       "  <th>X[5]</th>      <td>   -3.4299</td> <td>    4.988</td> <td>   -0.688</td> <td> 0.492</td> <td>  -13.236</td> <td>    6.376</td>\n",
       "</tr>\n",
       "<tr>\n",
       "  <th>X[6]</th>      <td>   -5.3234</td> <td>    4.954</td> <td>   -1.075</td> <td> 0.283</td> <td>  -15.063</td> <td>    4.417</td>\n",
       "</tr>\n",
       "<tr>\n",
       "  <th>X[7]</th>      <td>  127.7242</td> <td>    5.017</td> <td>   25.459</td> <td> 0.000</td> <td>  117.861</td> <td>  137.588</td>\n",
       "</tr>\n",
       "<tr>\n",
       "  <th>X[8]</th>      <td>   -4.1575</td> <td>    5.049</td> <td>   -0.824</td> <td> 0.411</td> <td>  -14.084</td> <td>    5.768</td>\n",
       "</tr>\n",
       "<tr>\n",
       "  <th>X[9]</th>      <td>    7.3243</td> <td>    6.154</td> <td>    1.190</td> <td> 0.235</td> <td>   -4.775</td> <td>   19.424</td>\n",
       "</tr>\n",
       "<tr>\n",
       "  <th>X[10]</th>     <td>    5.0534</td> <td>    6.105</td> <td>    0.828</td> <td> 0.408</td> <td>   -6.949</td> <td>   17.056</td>\n",
       "</tr>\n",
       "</table>\n",
       "<table class=\"simpletable\">\n",
       "<tr>\n",
       "  <th>Omnibus:</th>       <td>34.899</td> <th>  Durbin-Watson:     </th> <td>   1.968</td>\n",
       "</tr>\n",
       "<tr>\n",
       "  <th>Prob(Omnibus):</th> <td> 0.000</td> <th>  Jarque-Bera (JB):  </th> <td>  41.766</td>\n",
       "</tr>\n",
       "<tr>\n",
       "  <th>Skew:</th>          <td> 0.782</td> <th>  Prob(JB):          </th> <td>8.52e-10</td>\n",
       "</tr>\n",
       "<tr>\n",
       "  <th>Kurtosis:</th>      <td> 3.241</td> <th>  Cond. No.          </th> <td>    36.0</td>\n",
       "</tr>\n",
       "</table>"
      ],
      "text/plain": [
       "<class 'statsmodels.iolib.summary.Summary'>\n",
       "\"\"\"\n",
       "                            OLS Regression Results                            \n",
       "==============================================================================\n",
       "Dep. Variable:                      y   R-squared:                       0.955\n",
       "Model:                            OLS   Adj. R-squared:                  0.954\n",
       "Method:                 Least Squares   F-statistic:                     750.3\n",
       "Date:                Thu, 02 Nov 2017   Prob (F-statistic):          1.11e-253\n",
       "Time:                        14:50:52   Log-Likelihood:                -2398.7\n",
       "No. Observations:                 400   AIC:                             4821.\n",
       "Df Residuals:                     388   BIC:                             4869.\n",
       "Df Model:                          11                                         \n",
       "Covariance Type:            nonrobust                                         \n",
       "==============================================================================\n",
       "                 coef    std err          t      P>|t|      [0.025      0.975]\n",
       "------------------------------------------------------------------------------\n",
       "Intercept    520.0150      4.940    105.276      0.000     510.303     529.727\n",
       "X[0]        -274.6707      8.245    -33.314      0.000    -290.881    -258.460\n",
       "X[1]         440.0996     75.565      5.824      0.000     291.532     588.668\n",
       "X[2]         175.6281     75.858      2.315      0.021      26.484     324.773\n",
       "X[3]          24.2747      5.945      4.083      0.000      12.586      35.964\n",
       "X[4]         -10.5766      5.065     -2.088      0.037     -20.535      -0.618\n",
       "X[5]          -3.4299      4.988     -0.688      0.492     -13.236       6.376\n",
       "X[6]          -5.3234      4.954     -1.075      0.283     -15.063       4.417\n",
       "X[7]         127.7242      5.017     25.459      0.000     117.861     137.588\n",
       "X[8]          -4.1575      5.049     -0.824      0.411     -14.084       5.768\n",
       "X[9]           7.3243      6.154      1.190      0.235      -4.775      19.424\n",
       "X[10]          5.0534      6.105      0.828      0.408      -6.949      17.056\n",
       "==============================================================================\n",
       "Omnibus:                       34.899   Durbin-Watson:                   1.968\n",
       "Prob(Omnibus):                  0.000   Jarque-Bera (JB):               41.766\n",
       "Skew:                           0.782   Prob(JB):                     8.52e-10\n",
       "Kurtosis:                       3.241   Cond. No.                         36.0\n",
       "==============================================================================\n",
       "\n",
       "Warnings:\n",
       "[1] Standard Errors assume that the covariance matrix of the errors is correctly specified.\n",
       "\"\"\""
      ]
     },
     "execution_count": 299,
     "metadata": {},
     "output_type": "execute_result"
    }
   ],
   "source": [
    "X = credit[credit.columns.drop('Balance')].values\n",
    "y = credit['Balance'].values\n",
    "\n",
    "sc = StandardScaler()\n",
    "X_scaled = sc.fit_transform(X)\n",
    "\n",
    "smf.ols('y ~ X', {'y': y, 'X': X_scaled}).fit().summary()"
   ]
  },
  {
   "cell_type": "code",
   "execution_count": null,
   "metadata": {
    "collapsed": true
   },
   "outputs": [],
   "source": []
  }
 ],
 "metadata": {
  "kernelspec": {
   "display_name": "Python 3",
   "language": "python",
   "name": "python3"
  },
  "language_info": {
   "codemirror_mode": {
    "name": "ipython",
    "version": 3
   },
   "file_extension": ".py",
   "mimetype": "text/x-python",
   "name": "python",
   "nbconvert_exporter": "python",
   "pygments_lexer": "ipython3",
   "version": "3.6.0"
  }
 },
 "nbformat": 4,
 "nbformat_minor": 2
}
